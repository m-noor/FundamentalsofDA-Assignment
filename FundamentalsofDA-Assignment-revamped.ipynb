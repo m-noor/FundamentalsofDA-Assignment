{
 "cells": [
  {
   "cell_type": "markdown",
   "metadata": {},
   "source": [
    "# Fundamentals of Data Analysis - Assignment\n",
    "***\n",
    "\n",
    "## Table of Contents\n",
    "\n",
    "\n",
    "***\n",
    "## Introduction to Anscombe's quartet dataset\n",
    "1. Explain the background to the dataset – who created it, when it was created, and\n",
    "any speculation you can find regarding how it might have been created.\n",
    "\n",
    "***\n",
    "## Exploratory data analysis\n",
    "2. Plot the interesting aspects of the dataset."
   ]
  },
  {
   "cell_type": "code",
   "execution_count": 1,
   "metadata": {},
   "outputs": [
    {
     "data": {
      "text/html": [
       "<script type=\"text/javascript\">window.PlotlyConfig = {MathJaxConfig: 'local'};</script><script type=\"text/javascript\">if (window.MathJax) {MathJax.Hub.Config({SVG: {font: \"STIX-Web\"}});}</script><script>requirejs.config({paths: { 'plotly': ['https://cdn.plot.ly/plotly-latest.min']},});if(!window._Plotly) {require(['plotly'],function(plotly) {window._Plotly=plotly;});}</script>"
      ],
      "text/vnd.plotly.v1+html": [
       "<script type=\"text/javascript\">window.PlotlyConfig = {MathJaxConfig: 'local'};</script><script type=\"text/javascript\">if (window.MathJax) {MathJax.Hub.Config({SVG: {font: \"STIX-Web\"}});}</script><script>requirejs.config({paths: { 'plotly': ['https://cdn.plot.ly/plotly-latest.min']},});if(!window._Plotly) {require(['plotly'],function(plotly) {window._Plotly=plotly;});}</script>"
      ]
     },
     "metadata": {},
     "output_type": "display_data"
    },
    {
     "data": {
      "text/html": [
       "<div>\n",
       "<style scoped>\n",
       "    .dataframe tbody tr th:only-of-type {\n",
       "        vertical-align: middle;\n",
       "    }\n",
       "\n",
       "    .dataframe tbody tr th {\n",
       "        vertical-align: top;\n",
       "    }\n",
       "\n",
       "    .dataframe thead th {\n",
       "        text-align: right;\n",
       "    }\n",
       "</style>\n",
       "<table border=\"1\" class=\"dataframe\">\n",
       "  <thead>\n",
       "    <tr style=\"text-align: right;\">\n",
       "      <th></th>\n",
       "      <th>Unnamed: 0</th>\n",
       "      <th>x1</th>\n",
       "      <th>x2</th>\n",
       "      <th>x3</th>\n",
       "      <th>x4</th>\n",
       "      <th>y1</th>\n",
       "      <th>y2</th>\n",
       "      <th>y3</th>\n",
       "      <th>y4</th>\n",
       "    </tr>\n",
       "  </thead>\n",
       "  <tbody>\n",
       "    <tr>\n",
       "      <th>0</th>\n",
       "      <td>1</td>\n",
       "      <td>10</td>\n",
       "      <td>10</td>\n",
       "      <td>10</td>\n",
       "      <td>8</td>\n",
       "      <td>8.04</td>\n",
       "      <td>9.14</td>\n",
       "      <td>7.46</td>\n",
       "      <td>6.58</td>\n",
       "    </tr>\n",
       "    <tr>\n",
       "      <th>1</th>\n",
       "      <td>2</td>\n",
       "      <td>8</td>\n",
       "      <td>8</td>\n",
       "      <td>8</td>\n",
       "      <td>8</td>\n",
       "      <td>6.95</td>\n",
       "      <td>8.14</td>\n",
       "      <td>6.77</td>\n",
       "      <td>5.76</td>\n",
       "    </tr>\n",
       "    <tr>\n",
       "      <th>2</th>\n",
       "      <td>3</td>\n",
       "      <td>13</td>\n",
       "      <td>13</td>\n",
       "      <td>13</td>\n",
       "      <td>8</td>\n",
       "      <td>7.58</td>\n",
       "      <td>8.74</td>\n",
       "      <td>12.74</td>\n",
       "      <td>7.71</td>\n",
       "    </tr>\n",
       "    <tr>\n",
       "      <th>3</th>\n",
       "      <td>4</td>\n",
       "      <td>9</td>\n",
       "      <td>9</td>\n",
       "      <td>9</td>\n",
       "      <td>8</td>\n",
       "      <td>8.81</td>\n",
       "      <td>8.77</td>\n",
       "      <td>7.11</td>\n",
       "      <td>8.84</td>\n",
       "    </tr>\n",
       "    <tr>\n",
       "      <th>4</th>\n",
       "      <td>5</td>\n",
       "      <td>11</td>\n",
       "      <td>11</td>\n",
       "      <td>11</td>\n",
       "      <td>8</td>\n",
       "      <td>8.33</td>\n",
       "      <td>9.26</td>\n",
       "      <td>7.81</td>\n",
       "      <td>8.47</td>\n",
       "    </tr>\n",
       "    <tr>\n",
       "      <th>5</th>\n",
       "      <td>6</td>\n",
       "      <td>14</td>\n",
       "      <td>14</td>\n",
       "      <td>14</td>\n",
       "      <td>8</td>\n",
       "      <td>9.96</td>\n",
       "      <td>8.10</td>\n",
       "      <td>8.84</td>\n",
       "      <td>7.04</td>\n",
       "    </tr>\n",
       "    <tr>\n",
       "      <th>6</th>\n",
       "      <td>7</td>\n",
       "      <td>6</td>\n",
       "      <td>6</td>\n",
       "      <td>6</td>\n",
       "      <td>8</td>\n",
       "      <td>7.24</td>\n",
       "      <td>6.13</td>\n",
       "      <td>6.08</td>\n",
       "      <td>5.25</td>\n",
       "    </tr>\n",
       "    <tr>\n",
       "      <th>7</th>\n",
       "      <td>8</td>\n",
       "      <td>4</td>\n",
       "      <td>4</td>\n",
       "      <td>4</td>\n",
       "      <td>19</td>\n",
       "      <td>4.26</td>\n",
       "      <td>3.10</td>\n",
       "      <td>5.39</td>\n",
       "      <td>12.50</td>\n",
       "    </tr>\n",
       "    <tr>\n",
       "      <th>8</th>\n",
       "      <td>9</td>\n",
       "      <td>12</td>\n",
       "      <td>12</td>\n",
       "      <td>12</td>\n",
       "      <td>8</td>\n",
       "      <td>10.84</td>\n",
       "      <td>9.13</td>\n",
       "      <td>8.15</td>\n",
       "      <td>5.56</td>\n",
       "    </tr>\n",
       "    <tr>\n",
       "      <th>9</th>\n",
       "      <td>10</td>\n",
       "      <td>7</td>\n",
       "      <td>7</td>\n",
       "      <td>7</td>\n",
       "      <td>8</td>\n",
       "      <td>4.82</td>\n",
       "      <td>7.26</td>\n",
       "      <td>6.42</td>\n",
       "      <td>7.91</td>\n",
       "    </tr>\n",
       "    <tr>\n",
       "      <th>10</th>\n",
       "      <td>11</td>\n",
       "      <td>5</td>\n",
       "      <td>5</td>\n",
       "      <td>5</td>\n",
       "      <td>8</td>\n",
       "      <td>5.68</td>\n",
       "      <td>4.74</td>\n",
       "      <td>5.73</td>\n",
       "      <td>6.89</td>\n",
       "    </tr>\n",
       "  </tbody>\n",
       "</table>\n",
       "</div>"
      ],
      "text/plain": [
       "    Unnamed: 0  x1  x2  x3  x4     y1    y2     y3     y4\n",
       "0            1  10  10  10   8   8.04  9.14   7.46   6.58\n",
       "1            2   8   8   8   8   6.95  8.14   6.77   5.76\n",
       "2            3  13  13  13   8   7.58  8.74  12.74   7.71\n",
       "3            4   9   9   9   8   8.81  8.77   7.11   8.84\n",
       "4            5  11  11  11   8   8.33  9.26   7.81   8.47\n",
       "5            6  14  14  14   8   9.96  8.10   8.84   7.04\n",
       "6            7   6   6   6   8   7.24  6.13   6.08   5.25\n",
       "7            8   4   4   4  19   4.26  3.10   5.39  12.50\n",
       "8            9  12  12  12   8  10.84  9.13   8.15   5.56\n",
       "9           10   7   7   7   8   4.82  7.26   6.42   7.91\n",
       "10          11   5   5   5   8   5.68  4.74   5.73   6.89"
      ]
     },
     "execution_count": 1,
     "metadata": {},
     "output_type": "execute_result"
    }
   ],
   "source": [
    "# although we can read csv files with numpy, pandas is much better for data analytics\n",
    "import pandas as pd\n",
    "import numpy as np\n",
    "\n",
    "# to make interactive plots with plotly\n",
    "import plotly.graph_objs as go\n",
    "from plotly.offline import download_plotlyjs, init_notebook_mode, iplot\n",
    "init_notebook_mode(connected=True)\n",
    "import plotly.figure_factory as ff\n",
    "from plotly import tools\n",
    "\n",
    "# for making a linear regression line\n",
    "from sklearn import linear_model, metrics\n",
    "\n",
    "# read in our dataset\n",
    "filename = 'anscombe.csv'\n",
    "\n",
    "df = pd.read_csv(filename)\n",
    "\n",
    "df"
   ]
  },
  {
   "cell_type": "markdown",
   "metadata": {},
   "source": [
    "When we use the the read_csv() function out of the box by passing just the filename, pandas can automatically guess the header row and separator in the csv file as indicated by the documentation (https://pandas.pydata.org/pandas-docs/stable/generated/pandas.read_csv.html)\n",
    "\n",
    "Anyway, while this looks good, we can present it in a better form.\n",
    "\n",
    "First, we should use the first column within the dataset itself as the index, and then reorder the columns such that x1 is next to y1 and so on."
   ]
  },
  {
   "cell_type": "code",
   "execution_count": 4,
   "metadata": {},
   "outputs": [
    {
     "data": {
      "text/html": [
       "<div>\n",
       "<style scoped>\n",
       "    .dataframe tbody tr th:only-of-type {\n",
       "        vertical-align: middle;\n",
       "    }\n",
       "\n",
       "    .dataframe tbody tr th {\n",
       "        vertical-align: top;\n",
       "    }\n",
       "\n",
       "    .dataframe thead th {\n",
       "        text-align: right;\n",
       "    }\n",
       "</style>\n",
       "<table border=\"1\" class=\"dataframe\">\n",
       "  <thead>\n",
       "    <tr style=\"text-align: right;\">\n",
       "      <th></th>\n",
       "      <th>x1</th>\n",
       "      <th>y1</th>\n",
       "      <th>x2</th>\n",
       "      <th>y2</th>\n",
       "      <th>x3</th>\n",
       "      <th>y3</th>\n",
       "      <th>x4</th>\n",
       "      <th>y4</th>\n",
       "    </tr>\n",
       "  </thead>\n",
       "  <tbody>\n",
       "    <tr>\n",
       "      <th>1</th>\n",
       "      <td>10</td>\n",
       "      <td>8.04</td>\n",
       "      <td>10</td>\n",
       "      <td>9.14</td>\n",
       "      <td>10</td>\n",
       "      <td>7.46</td>\n",
       "      <td>8</td>\n",
       "      <td>6.58</td>\n",
       "    </tr>\n",
       "    <tr>\n",
       "      <th>2</th>\n",
       "      <td>8</td>\n",
       "      <td>6.95</td>\n",
       "      <td>8</td>\n",
       "      <td>8.14</td>\n",
       "      <td>8</td>\n",
       "      <td>6.77</td>\n",
       "      <td>8</td>\n",
       "      <td>5.76</td>\n",
       "    </tr>\n",
       "    <tr>\n",
       "      <th>3</th>\n",
       "      <td>13</td>\n",
       "      <td>7.58</td>\n",
       "      <td>13</td>\n",
       "      <td>8.74</td>\n",
       "      <td>13</td>\n",
       "      <td>12.74</td>\n",
       "      <td>8</td>\n",
       "      <td>7.71</td>\n",
       "    </tr>\n",
       "    <tr>\n",
       "      <th>4</th>\n",
       "      <td>9</td>\n",
       "      <td>8.81</td>\n",
       "      <td>9</td>\n",
       "      <td>8.77</td>\n",
       "      <td>9</td>\n",
       "      <td>7.11</td>\n",
       "      <td>8</td>\n",
       "      <td>8.84</td>\n",
       "    </tr>\n",
       "    <tr>\n",
       "      <th>5</th>\n",
       "      <td>11</td>\n",
       "      <td>8.33</td>\n",
       "      <td>11</td>\n",
       "      <td>9.26</td>\n",
       "      <td>11</td>\n",
       "      <td>7.81</td>\n",
       "      <td>8</td>\n",
       "      <td>8.47</td>\n",
       "    </tr>\n",
       "    <tr>\n",
       "      <th>6</th>\n",
       "      <td>14</td>\n",
       "      <td>9.96</td>\n",
       "      <td>14</td>\n",
       "      <td>8.10</td>\n",
       "      <td>14</td>\n",
       "      <td>8.84</td>\n",
       "      <td>8</td>\n",
       "      <td>7.04</td>\n",
       "    </tr>\n",
       "    <tr>\n",
       "      <th>7</th>\n",
       "      <td>6</td>\n",
       "      <td>7.24</td>\n",
       "      <td>6</td>\n",
       "      <td>6.13</td>\n",
       "      <td>6</td>\n",
       "      <td>6.08</td>\n",
       "      <td>8</td>\n",
       "      <td>5.25</td>\n",
       "    </tr>\n",
       "    <tr>\n",
       "      <th>8</th>\n",
       "      <td>4</td>\n",
       "      <td>4.26</td>\n",
       "      <td>4</td>\n",
       "      <td>3.10</td>\n",
       "      <td>4</td>\n",
       "      <td>5.39</td>\n",
       "      <td>19</td>\n",
       "      <td>12.50</td>\n",
       "    </tr>\n",
       "    <tr>\n",
       "      <th>9</th>\n",
       "      <td>12</td>\n",
       "      <td>10.84</td>\n",
       "      <td>12</td>\n",
       "      <td>9.13</td>\n",
       "      <td>12</td>\n",
       "      <td>8.15</td>\n",
       "      <td>8</td>\n",
       "      <td>5.56</td>\n",
       "    </tr>\n",
       "    <tr>\n",
       "      <th>10</th>\n",
       "      <td>7</td>\n",
       "      <td>4.82</td>\n",
       "      <td>7</td>\n",
       "      <td>7.26</td>\n",
       "      <td>7</td>\n",
       "      <td>6.42</td>\n",
       "      <td>8</td>\n",
       "      <td>7.91</td>\n",
       "    </tr>\n",
       "    <tr>\n",
       "      <th>11</th>\n",
       "      <td>5</td>\n",
       "      <td>5.68</td>\n",
       "      <td>5</td>\n",
       "      <td>4.74</td>\n",
       "      <td>5</td>\n",
       "      <td>5.73</td>\n",
       "      <td>8</td>\n",
       "      <td>6.89</td>\n",
       "    </tr>\n",
       "  </tbody>\n",
       "</table>\n",
       "</div>"
      ],
      "text/plain": [
       "    x1     y1  x2    y2  x3     y3  x4     y4\n",
       "1   10   8.04  10  9.14  10   7.46   8   6.58\n",
       "2    8   6.95   8  8.14   8   6.77   8   5.76\n",
       "3   13   7.58  13  8.74  13  12.74   8   7.71\n",
       "4    9   8.81   9  8.77   9   7.11   8   8.84\n",
       "5   11   8.33  11  9.26  11   7.81   8   8.47\n",
       "6   14   9.96  14  8.10  14   8.84   8   7.04\n",
       "7    6   7.24   6  6.13   6   6.08   8   5.25\n",
       "8    4   4.26   4  3.10   4   5.39  19  12.50\n",
       "9   12  10.84  12  9.13  12   8.15   8   5.56\n",
       "10   7   4.82   7  7.26   7   6.42   8   7.91\n",
       "11   5   5.68   5  4.74   5   5.73   8   6.89"
      ]
     },
     "execution_count": 4,
     "metadata": {},
     "output_type": "execute_result"
    }
   ],
   "source": [
    "df = pd.read_csv(filename, index_col=0)\n",
    "df = df[['x1','y1', 'x2','y2', 'x3', 'y3', 'x4', 'y4']]\n",
    "df"
   ]
  },
  {
   "cell_type": "markdown",
   "metadata": {},
   "source": [
    "However, the table above is looks too plain and can be made much more interesting looking. Now, it is obvious to us that the the quartets are x1/y1, x2/y2... Let's make it better looking by coloring the columns.\n"
   ]
  },
  {
   "cell_type": "code",
   "execution_count": 5,
   "metadata": {},
   "outputs": [
    {
     "data": {
      "application/vnd.plotly.v1+json": {
       "data": [
        {
         "cells": {
          "align": [
           "center"
          ],
          "fill": {
           "color": [
            "red",
            "red",
            "yellow",
            "yellow",
            "lightgreen",
            "lightgreen",
            "black",
            "black"
           ]
          },
          "font": {
           "color": [
            "white",
            "white",
            "black",
            "black",
            "black",
            "black",
            "white",
            "white"
           ]
          },
          "values": [
           [
            10,
            8,
            13,
            9,
            11,
            14,
            6,
            4,
            12,
            7,
            5
           ],
           [
            8.04,
            6.95,
            7.58,
            8.81,
            8.33,
            9.96,
            7.24,
            4.26,
            10.84,
            4.82,
            5.68
           ],
           [
            10,
            8,
            13,
            9,
            11,
            14,
            6,
            4,
            12,
            7,
            5
           ],
           [
            9.14,
            8.14,
            8.74,
            8.77,
            9.26,
            8.1,
            6.13,
            3.1,
            9.13,
            7.26,
            4.74
           ],
           [
            10,
            8,
            13,
            9,
            11,
            14,
            6,
            4,
            12,
            7,
            5
           ],
           [
            7.46,
            6.77,
            12.74,
            7.11,
            7.81,
            8.84,
            6.08,
            5.39,
            8.15,
            6.42,
            5.73
           ],
           [
            8,
            8,
            8,
            8,
            8,
            8,
            8,
            19,
            8,
            8,
            8
           ],
           [
            6.58,
            5.76,
            7.71,
            8.84,
            8.47,
            7.04,
            5.25,
            12.5,
            5.56,
            7.91,
            6.89
           ]
          ]
         },
         "header": {
          "align": [
           "center"
          ],
          "fill": {
           "color": "blue"
          },
          "font": {
           "color": "white"
          },
          "values": [
           "x1",
           "y1",
           "x2",
           "y2",
           "x3",
           "y3",
           "x4",
           "y4"
          ]
         },
         "type": "table",
         "uid": "df69cbd4-f637-4b49-b798-6a4bc0bd8c93"
        }
       ],
       "layout": {}
      },
      "text/html": [
       "<div id=\"2f7358b4-e23a-4874-b0b7-142f95559d7b\" style=\"height: 525px; width: 100%;\" class=\"plotly-graph-div\"></div><script type=\"text/javascript\">require([\"plotly\"], function(Plotly) { window.PLOTLYENV=window.PLOTLYENV || {};window.PLOTLYENV.BASE_URL=\"https://plot.ly\";Plotly.newPlot(\"2f7358b4-e23a-4874-b0b7-142f95559d7b\", [{\"cells\": {\"align\": [\"center\"], \"fill\": {\"color\": [\"red\", \"red\", \"yellow\", \"yellow\", \"lightgreen\", \"lightgreen\", \"black\", \"black\"]}, \"font\": {\"color\": [\"white\", \"white\", \"black\", \"black\", \"black\", \"black\", \"white\", \"white\"]}, \"values\": [[10, 8, 13, 9, 11, 14, 6, 4, 12, 7, 5], [8.04, 6.95, 7.58, 8.81, 8.33, 9.96, 7.24, 4.26, 10.84, 4.82, 5.68], [10, 8, 13, 9, 11, 14, 6, 4, 12, 7, 5], [9.14, 8.14, 8.74, 8.77, 9.26, 8.1, 6.13, 3.1, 9.13, 7.26, 4.74], [10, 8, 13, 9, 11, 14, 6, 4, 12, 7, 5], [7.46, 6.77, 12.74, 7.11, 7.81, 8.84, 6.08, 5.39, 8.15, 6.42, 5.73], [8, 8, 8, 8, 8, 8, 8, 19, 8, 8, 8], [6.58, 5.76, 7.71, 8.84, 8.47, 7.04, 5.25, 12.5, 5.56, 7.91, 6.89]]}, \"header\": {\"align\": [\"center\"], \"fill\": {\"color\": \"blue\"}, \"font\": {\"color\": \"white\"}, \"values\": [\"x1\", \"y1\", \"x2\", \"y2\", \"x3\", \"y3\", \"x4\", \"y4\"]}, \"type\": \"table\", \"uid\": \"dbfc522b-1b6d-4171-9e84-e8ac53d5bec3\"}], {}, {\"showLink\": true, \"linkText\": \"Export to plot.ly\"})});</script><script type=\"text/javascript\">window.addEventListener(\"resize\", function(){Plotly.Plots.resize(document.getElementById(\"2f7358b4-e23a-4874-b0b7-142f95559d7b\"));});</script>"
      ],
      "text/vnd.plotly.v1+html": [
       "<div id=\"2f7358b4-e23a-4874-b0b7-142f95559d7b\" style=\"height: 525px; width: 100%;\" class=\"plotly-graph-div\"></div><script type=\"text/javascript\">require([\"plotly\"], function(Plotly) { window.PLOTLYENV=window.PLOTLYENV || {};window.PLOTLYENV.BASE_URL=\"https://plot.ly\";Plotly.newPlot(\"2f7358b4-e23a-4874-b0b7-142f95559d7b\", [{\"cells\": {\"align\": [\"center\"], \"fill\": {\"color\": [\"red\", \"red\", \"yellow\", \"yellow\", \"lightgreen\", \"lightgreen\", \"black\", \"black\"]}, \"font\": {\"color\": [\"white\", \"white\", \"black\", \"black\", \"black\", \"black\", \"white\", \"white\"]}, \"values\": [[10, 8, 13, 9, 11, 14, 6, 4, 12, 7, 5], [8.04, 6.95, 7.58, 8.81, 8.33, 9.96, 7.24, 4.26, 10.84, 4.82, 5.68], [10, 8, 13, 9, 11, 14, 6, 4, 12, 7, 5], [9.14, 8.14, 8.74, 8.77, 9.26, 8.1, 6.13, 3.1, 9.13, 7.26, 4.74], [10, 8, 13, 9, 11, 14, 6, 4, 12, 7, 5], [7.46, 6.77, 12.74, 7.11, 7.81, 8.84, 6.08, 5.39, 8.15, 6.42, 5.73], [8, 8, 8, 8, 8, 8, 8, 19, 8, 8, 8], [6.58, 5.76, 7.71, 8.84, 8.47, 7.04, 5.25, 12.5, 5.56, 7.91, 6.89]]}, \"header\": {\"align\": [\"center\"], \"fill\": {\"color\": \"blue\"}, \"font\": {\"color\": \"white\"}, \"values\": [\"x1\", \"y1\", \"x2\", \"y2\", \"x3\", \"y3\", \"x4\", \"y4\"]}, \"type\": \"table\", \"uid\": \"dbfc522b-1b6d-4171-9e84-e8ac53d5bec3\"}], {}, {\"showLink\": true, \"linkText\": \"Export to plot.ly\"})});</script><script type=\"text/javascript\">window.addEventListener(\"resize\", function(){Plotly.Plots.resize(document.getElementById(\"2f7358b4-e23a-4874-b0b7-142f95559d7b\"));});</script>"
      ]
     },
     "metadata": {},
     "output_type": "display_data"
    }
   ],
   "source": [
    "# reference: https://plot.ly/python/table/\n",
    "\n",
    "trace = go.Table(\n",
    "    header=dict(values=list(df.columns),\n",
    "                fill = dict(color='blue'),\n",
    "                align = ['center'],\n",
    "                font = dict(color = 'white')\n",
    "               ),\n",
    "\n",
    "    cells=dict(values=[df.x1, df.y1,\n",
    "                       df.x2, df.y2,\n",
    "                       df.x3, df.y3,\n",
    "                       df.x4, df.y4],\n",
    "               fill = dict(color=['red', 'red', 'yellow', 'yellow', 'lightgreen', 'lightgreen', 'black', 'black']),\n",
    "               align = ['center'],\n",
    "               font = dict(color=['white', 'white', 'black', 'black', 'black', 'black', 'white', 'white'])\n",
    "              )\n",
    "               )\n",
    "\n",
    "data = [trace] \n",
    "iplot(data)"
   ]
  },
  {
   "cell_type": "markdown",
   "metadata": {},
   "source": [
    "We can also reorder the values in the column so that they make sense visually by looking at the table itself."
   ]
  },
  {
   "cell_type": "code",
   "execution_count": 26,
   "metadata": {},
   "outputs": [],
   "source": [
    "# reorder the table above\n",
    "\n",
    "#df_reordered_Q1 = df_reordered[['x1', 'y1']]\n",
    "#\n",
    "#df_reordered_Q1 = df_reordered_Q1.sort_values('x1')\n",
    "#\n",
    "#df_reordered_Q1\n",
    "\n",
    "# let's also split the df because we need to do some separate operations plotting, regression etc.\n",
    "# we need to reset the indices to make it easier for remerging etc.\n",
    "\n",
    "df_Q1 = df[['x1', 'y1']]\n",
    "df_Q1 = df_Q1.sort_values('x1')\n",
    "df_Q1 = df_Q1.reset_index(drop=True)\n",
    "\n",
    "df_Q2 = df[['x2', 'y2']]\n",
    "df_Q2 = df_Q2.sort_values('x2')\n",
    "df_Q2 = df_Q2.reset_index(drop=True)\n",
    "\n",
    "df_Q3 = df[['x3', 'y3']]\n",
    "df_Q3 = df_Q3.sort_values('x3')\n",
    "df_Q3 = df_Q3.reset_index(drop=True)\n",
    "\n",
    "df_Q4 = df[['x4', 'y4']]\n",
    "df_Q4 = df_Q4.sort_values('x4')\n",
    "df_Q4 = df_Q4.reset_index(drop=True)\n",
    "\n",
    "# however, plotly table header can only take 1 argument, so we need to join the headers together\n",
    "\n",
    "df = pd.concat([df_Q1, df_Q2, df_Q3, df_Q4], axis=1)"
   ]
  },
  {
   "cell_type": "code",
   "execution_count": 27,
   "metadata": {},
   "outputs": [
    {
     "data": {
      "application/vnd.plotly.v1+json": {
       "data": [
        {
         "cells": {
          "align": [
           "center"
          ],
          "fill": {
           "color": [
            "red",
            "red",
            "yellow",
            "yellow",
            "lightgreen",
            "lightgreen",
            "black",
            "black"
           ]
          },
          "font": {
           "color": [
            "white",
            "white",
            "black",
            "black",
            "black",
            "black",
            "white",
            "white"
           ]
          },
          "values": [
           [
            4,
            5,
            6,
            7,
            8,
            9,
            10,
            11,
            12,
            13,
            14
           ],
           [
            4.26,
            5.68,
            7.24,
            4.82,
            6.95,
            8.81,
            8.04,
            8.33,
            10.84,
            7.58,
            9.96
           ],
           [
            4,
            5,
            6,
            7,
            8,
            9,
            10,
            11,
            12,
            13,
            14
           ],
           [
            3.1,
            4.74,
            6.13,
            7.26,
            8.14,
            8.77,
            9.14,
            9.26,
            9.13,
            8.74,
            8.1
           ],
           [
            4,
            5,
            6,
            7,
            8,
            9,
            10,
            11,
            12,
            13,
            14
           ],
           [
            5.39,
            5.73,
            6.08,
            6.42,
            6.77,
            7.11,
            7.46,
            7.81,
            8.15,
            12.74,
            8.84
           ],
           [
            8,
            8,
            8,
            8,
            8,
            8,
            8,
            8,
            8,
            8,
            19
           ],
           [
            6.58,
            5.76,
            7.71,
            8.84,
            8.47,
            7.04,
            5.25,
            5.56,
            7.91,
            6.89,
            12.5
           ]
          ]
         },
         "header": {
          "align": [
           "center"
          ],
          "fill": {
           "color": "blue"
          },
          "font": {
           "color": "white"
          },
          "values": [
           "x1",
           "y1",
           "x2",
           "y2",
           "x3",
           "y3",
           "x4",
           "y4"
          ]
         },
         "type": "table",
         "uid": "5f3324d2-1afc-4ca0-8709-a6275157487e"
        }
       ],
       "layout": {}
      },
      "text/html": [
       "<div id=\"f82fdd0d-d05f-4c06-bbea-aec307e330a5\" style=\"height: 525px; width: 100%;\" class=\"plotly-graph-div\"></div><script type=\"text/javascript\">require([\"plotly\"], function(Plotly) { window.PLOTLYENV=window.PLOTLYENV || {};window.PLOTLYENV.BASE_URL=\"https://plot.ly\";Plotly.newPlot(\"f82fdd0d-d05f-4c06-bbea-aec307e330a5\", [{\"cells\": {\"align\": [\"center\"], \"fill\": {\"color\": [\"red\", \"red\", \"yellow\", \"yellow\", \"lightgreen\", \"lightgreen\", \"black\", \"black\"]}, \"font\": {\"color\": [\"white\", \"white\", \"black\", \"black\", \"black\", \"black\", \"white\", \"white\"]}, \"values\": [[4, 5, 6, 7, 8, 9, 10, 11, 12, 13, 14], [4.26, 5.68, 7.24, 4.82, 6.95, 8.81, 8.04, 8.33, 10.84, 7.58, 9.96], [4, 5, 6, 7, 8, 9, 10, 11, 12, 13, 14], [3.1, 4.74, 6.13, 7.26, 8.14, 8.77, 9.14, 9.26, 9.13, 8.74, 8.1], [4, 5, 6, 7, 8, 9, 10, 11, 12, 13, 14], [5.39, 5.73, 6.08, 6.42, 6.77, 7.11, 7.46, 7.81, 8.15, 12.74, 8.84], [8, 8, 8, 8, 8, 8, 8, 8, 8, 8, 19], [6.58, 5.76, 7.71, 8.84, 8.47, 7.04, 5.25, 5.56, 7.91, 6.89, 12.5]]}, \"header\": {\"align\": [\"center\"], \"fill\": {\"color\": \"blue\"}, \"font\": {\"color\": \"white\"}, \"values\": [\"x1\", \"y1\", \"x2\", \"y2\", \"x3\", \"y3\", \"x4\", \"y4\"]}, \"type\": \"table\", \"uid\": \"601c4c76-50a4-4367-b765-eef7afe4ba47\"}], {}, {\"showLink\": true, \"linkText\": \"Export to plot.ly\"})});</script><script type=\"text/javascript\">window.addEventListener(\"resize\", function(){Plotly.Plots.resize(document.getElementById(\"f82fdd0d-d05f-4c06-bbea-aec307e330a5\"));});</script>"
      ],
      "text/vnd.plotly.v1+html": [
       "<div id=\"f82fdd0d-d05f-4c06-bbea-aec307e330a5\" style=\"height: 525px; width: 100%;\" class=\"plotly-graph-div\"></div><script type=\"text/javascript\">require([\"plotly\"], function(Plotly) { window.PLOTLYENV=window.PLOTLYENV || {};window.PLOTLYENV.BASE_URL=\"https://plot.ly\";Plotly.newPlot(\"f82fdd0d-d05f-4c06-bbea-aec307e330a5\", [{\"cells\": {\"align\": [\"center\"], \"fill\": {\"color\": [\"red\", \"red\", \"yellow\", \"yellow\", \"lightgreen\", \"lightgreen\", \"black\", \"black\"]}, \"font\": {\"color\": [\"white\", \"white\", \"black\", \"black\", \"black\", \"black\", \"white\", \"white\"]}, \"values\": [[4, 5, 6, 7, 8, 9, 10, 11, 12, 13, 14], [4.26, 5.68, 7.24, 4.82, 6.95, 8.81, 8.04, 8.33, 10.84, 7.58, 9.96], [4, 5, 6, 7, 8, 9, 10, 11, 12, 13, 14], [3.1, 4.74, 6.13, 7.26, 8.14, 8.77, 9.14, 9.26, 9.13, 8.74, 8.1], [4, 5, 6, 7, 8, 9, 10, 11, 12, 13, 14], [5.39, 5.73, 6.08, 6.42, 6.77, 7.11, 7.46, 7.81, 8.15, 12.74, 8.84], [8, 8, 8, 8, 8, 8, 8, 8, 8, 8, 19], [6.58, 5.76, 7.71, 8.84, 8.47, 7.04, 5.25, 5.56, 7.91, 6.89, 12.5]]}, \"header\": {\"align\": [\"center\"], \"fill\": {\"color\": \"blue\"}, \"font\": {\"color\": \"white\"}, \"values\": [\"x1\", \"y1\", \"x2\", \"y2\", \"x3\", \"y3\", \"x4\", \"y4\"]}, \"type\": \"table\", \"uid\": \"601c4c76-50a4-4367-b765-eef7afe4ba47\"}], {}, {\"showLink\": true, \"linkText\": \"Export to plot.ly\"})});</script><script type=\"text/javascript\">window.addEventListener(\"resize\", function(){Plotly.Plots.resize(document.getElementById(\"f82fdd0d-d05f-4c06-bbea-aec307e330a5\"));});</script>"
      ]
     },
     "metadata": {},
     "output_type": "display_data"
    }
   ],
   "source": [
    "trace = go.Table(\n",
    "    header=dict(values=list(df.columns),\n",
    "                fill = dict(color='blue'),\n",
    "                align = ['center'],\n",
    "                font = dict(color = 'white')\n",
    "               ),\n",
    "\n",
    "    cells=dict(values=[df.x1, df.y1,\n",
    "                       df.x2, df.y2,\n",
    "                       df.x3, df.y3,\n",
    "                       df.x4, df.y4],\n",
    "               fill = dict(color=['red', 'red', 'yellow', 'yellow', 'lightgreen', 'lightgreen', 'black', 'black']),\n",
    "               align = ['center'],\n",
    "               font = dict(color=['white', 'white', 'black', 'black', 'black', 'black', 'white', 'white'])\n",
    "              )\n",
    "               )\n",
    "\n",
    "data = [trace] \n",
    "iplot(data)"
   ]
  },
  {
   "cell_type": "markdown",
   "metadata": {},
   "source": [
    "The table above easily shows to us that:\n",
    "\n",
    "1. Quartet IV is a bit problematic because the same value of x is associated with multiple y values, and there seems to be an outlier\n",
    "1. Quartet I - there is almost linear increase in y as x increases but with dips at a minimum of 2 points (roughly)\n",
    "1. Quartet II - y increases as x increases and then decreases again\n",
    "1. Quartet III - y increases as x increases but there is an outlier y (12.74)\n",
    "\n",
    "Of course, because humans are better with visuals, we'll just plot these."
   ]
  },
  {
   "cell_type": "code",
   "execution_count": null,
   "metadata": {},
   "outputs": [],
   "source": []
  },
  {
   "cell_type": "markdown",
   "metadata": {},
   "source": [
    "***\n",
    "## Descriptive statistics\n",
    "3. Calculate the descriptive statistics of the variables in the dataset.\n",
    "\n",
    "\n",
    "## Discussion\n",
    "4. Explain why the dataset is interesting, referring to the plots and statistics above.\n",
    "\n",
    "\n",
    "## Conclusion\n",
    "\n",
    "links:\n",
    "https://en.wikipedia.org/wiki/Anscombe%27s_quartet"
   ]
  },
  {
   "cell_type": "code",
   "execution_count": null,
   "metadata": {},
   "outputs": [],
   "source": []
  }
 ],
 "metadata": {
  "kernelspec": {
   "display_name": "Python 3",
   "language": "python",
   "name": "python3"
  },
  "language_info": {
   "codemirror_mode": {
    "name": "ipython",
    "version": 3
   },
   "file_extension": ".py",
   "mimetype": "text/x-python",
   "name": "python",
   "nbconvert_exporter": "python",
   "pygments_lexer": "ipython3",
   "version": "3.6.6"
  }
 },
 "nbformat": 4,
 "nbformat_minor": 2
}
