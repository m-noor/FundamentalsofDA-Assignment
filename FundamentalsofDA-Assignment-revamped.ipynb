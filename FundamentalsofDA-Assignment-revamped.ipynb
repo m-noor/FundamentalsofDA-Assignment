{
 "cells": [
  {
   "cell_type": "markdown",
   "metadata": {},
   "source": [
    "# Fundamentals of Data Analysis - Assignment\n",
    "***\n",
    "\n",
    "## Table of Contents\n",
    "\n",
    "\n",
    "***\n",
    "## Introduction to Anscombe's quartet dataset\n",
    "1. Explain the background to the dataset – who created it, when it was created, and\n",
    "any speculation you can find regarding how it might have been created.\n",
    "\n",
    "***\n",
    "## Exploratory data analysis\n",
    "2. Plot the interesting aspects of the dataset."
   ]
  },
  {
   "cell_type": "code",
   "execution_count": 30,
   "metadata": {},
   "outputs": [
    {
     "data": {
      "text/html": [
       "<script type=\"text/javascript\">window.PlotlyConfig = {MathJaxConfig: 'local'};</script><script type=\"text/javascript\">if (window.MathJax) {MathJax.Hub.Config({SVG: {font: \"STIX-Web\"}});}</script><script>requirejs.config({paths: { 'plotly': ['https://cdn.plot.ly/plotly-latest.min']},});if(!window._Plotly) {require(['plotly'],function(plotly) {window._Plotly=plotly;});}</script>"
      ],
      "text/vnd.plotly.v1+html": [
       "<script type=\"text/javascript\">window.PlotlyConfig = {MathJaxConfig: 'local'};</script><script type=\"text/javascript\">if (window.MathJax) {MathJax.Hub.Config({SVG: {font: \"STIX-Web\"}});}</script><script>requirejs.config({paths: { 'plotly': ['https://cdn.plot.ly/plotly-latest.min']},});if(!window._Plotly) {require(['plotly'],function(plotly) {window._Plotly=plotly;});}</script>"
      ]
     },
     "metadata": {},
     "output_type": "display_data"
    },
    {
     "data": {
      "text/html": [
       "<div>\n",
       "<style scoped>\n",
       "    .dataframe tbody tr th:only-of-type {\n",
       "        vertical-align: middle;\n",
       "    }\n",
       "\n",
       "    .dataframe tbody tr th {\n",
       "        vertical-align: top;\n",
       "    }\n",
       "\n",
       "    .dataframe thead th {\n",
       "        text-align: right;\n",
       "    }\n",
       "</style>\n",
       "<table border=\"1\" class=\"dataframe\">\n",
       "  <thead>\n",
       "    <tr style=\"text-align: right;\">\n",
       "      <th></th>\n",
       "      <th>Unnamed: 0</th>\n",
       "      <th>x1</th>\n",
       "      <th>x2</th>\n",
       "      <th>x3</th>\n",
       "      <th>x4</th>\n",
       "      <th>y1</th>\n",
       "      <th>y2</th>\n",
       "      <th>y3</th>\n",
       "      <th>y4</th>\n",
       "    </tr>\n",
       "  </thead>\n",
       "  <tbody>\n",
       "    <tr>\n",
       "      <th>0</th>\n",
       "      <td>1</td>\n",
       "      <td>10</td>\n",
       "      <td>10</td>\n",
       "      <td>10</td>\n",
       "      <td>8</td>\n",
       "      <td>8.04</td>\n",
       "      <td>9.14</td>\n",
       "      <td>7.46</td>\n",
       "      <td>6.58</td>\n",
       "    </tr>\n",
       "    <tr>\n",
       "      <th>1</th>\n",
       "      <td>2</td>\n",
       "      <td>8</td>\n",
       "      <td>8</td>\n",
       "      <td>8</td>\n",
       "      <td>8</td>\n",
       "      <td>6.95</td>\n",
       "      <td>8.14</td>\n",
       "      <td>6.77</td>\n",
       "      <td>5.76</td>\n",
       "    </tr>\n",
       "    <tr>\n",
       "      <th>2</th>\n",
       "      <td>3</td>\n",
       "      <td>13</td>\n",
       "      <td>13</td>\n",
       "      <td>13</td>\n",
       "      <td>8</td>\n",
       "      <td>7.58</td>\n",
       "      <td>8.74</td>\n",
       "      <td>12.74</td>\n",
       "      <td>7.71</td>\n",
       "    </tr>\n",
       "    <tr>\n",
       "      <th>3</th>\n",
       "      <td>4</td>\n",
       "      <td>9</td>\n",
       "      <td>9</td>\n",
       "      <td>9</td>\n",
       "      <td>8</td>\n",
       "      <td>8.81</td>\n",
       "      <td>8.77</td>\n",
       "      <td>7.11</td>\n",
       "      <td>8.84</td>\n",
       "    </tr>\n",
       "    <tr>\n",
       "      <th>4</th>\n",
       "      <td>5</td>\n",
       "      <td>11</td>\n",
       "      <td>11</td>\n",
       "      <td>11</td>\n",
       "      <td>8</td>\n",
       "      <td>8.33</td>\n",
       "      <td>9.26</td>\n",
       "      <td>7.81</td>\n",
       "      <td>8.47</td>\n",
       "    </tr>\n",
       "    <tr>\n",
       "      <th>5</th>\n",
       "      <td>6</td>\n",
       "      <td>14</td>\n",
       "      <td>14</td>\n",
       "      <td>14</td>\n",
       "      <td>8</td>\n",
       "      <td>9.96</td>\n",
       "      <td>8.10</td>\n",
       "      <td>8.84</td>\n",
       "      <td>7.04</td>\n",
       "    </tr>\n",
       "    <tr>\n",
       "      <th>6</th>\n",
       "      <td>7</td>\n",
       "      <td>6</td>\n",
       "      <td>6</td>\n",
       "      <td>6</td>\n",
       "      <td>8</td>\n",
       "      <td>7.24</td>\n",
       "      <td>6.13</td>\n",
       "      <td>6.08</td>\n",
       "      <td>5.25</td>\n",
       "    </tr>\n",
       "    <tr>\n",
       "      <th>7</th>\n",
       "      <td>8</td>\n",
       "      <td>4</td>\n",
       "      <td>4</td>\n",
       "      <td>4</td>\n",
       "      <td>19</td>\n",
       "      <td>4.26</td>\n",
       "      <td>3.10</td>\n",
       "      <td>5.39</td>\n",
       "      <td>12.50</td>\n",
       "    </tr>\n",
       "    <tr>\n",
       "      <th>8</th>\n",
       "      <td>9</td>\n",
       "      <td>12</td>\n",
       "      <td>12</td>\n",
       "      <td>12</td>\n",
       "      <td>8</td>\n",
       "      <td>10.84</td>\n",
       "      <td>9.13</td>\n",
       "      <td>8.15</td>\n",
       "      <td>5.56</td>\n",
       "    </tr>\n",
       "    <tr>\n",
       "      <th>9</th>\n",
       "      <td>10</td>\n",
       "      <td>7</td>\n",
       "      <td>7</td>\n",
       "      <td>7</td>\n",
       "      <td>8</td>\n",
       "      <td>4.82</td>\n",
       "      <td>7.26</td>\n",
       "      <td>6.42</td>\n",
       "      <td>7.91</td>\n",
       "    </tr>\n",
       "    <tr>\n",
       "      <th>10</th>\n",
       "      <td>11</td>\n",
       "      <td>5</td>\n",
       "      <td>5</td>\n",
       "      <td>5</td>\n",
       "      <td>8</td>\n",
       "      <td>5.68</td>\n",
       "      <td>4.74</td>\n",
       "      <td>5.73</td>\n",
       "      <td>6.89</td>\n",
       "    </tr>\n",
       "  </tbody>\n",
       "</table>\n",
       "</div>"
      ],
      "text/plain": [
       "    Unnamed: 0  x1  x2  x3  x4     y1    y2     y3     y4\n",
       "0            1  10  10  10   8   8.04  9.14   7.46   6.58\n",
       "1            2   8   8   8   8   6.95  8.14   6.77   5.76\n",
       "2            3  13  13  13   8   7.58  8.74  12.74   7.71\n",
       "3            4   9   9   9   8   8.81  8.77   7.11   8.84\n",
       "4            5  11  11  11   8   8.33  9.26   7.81   8.47\n",
       "5            6  14  14  14   8   9.96  8.10   8.84   7.04\n",
       "6            7   6   6   6   8   7.24  6.13   6.08   5.25\n",
       "7            8   4   4   4  19   4.26  3.10   5.39  12.50\n",
       "8            9  12  12  12   8  10.84  9.13   8.15   5.56\n",
       "9           10   7   7   7   8   4.82  7.26   6.42   7.91\n",
       "10          11   5   5   5   8   5.68  4.74   5.73   6.89"
      ]
     },
     "execution_count": 30,
     "metadata": {},
     "output_type": "execute_result"
    }
   ],
   "source": [
    "# although we can read csv files with numpy, pandas is much better for data analytics\n",
    "import pandas as pd\n",
    "import numpy as np\n",
    "\n",
    "# to make interactive plots with plotly\n",
    "import plotly.graph_objs as go\n",
    "from plotly.offline import download_plotlyjs, init_notebook_mode, iplot\n",
    "init_notebook_mode(connected=True)\n",
    "import plotly.figure_factory as ff\n",
    "from plotly import tools\n",
    "\n",
    "# for making a linear regression line\n",
    "from sklearn import linear_model, metrics\n",
    "\n",
    "# for calculating BIC and AIC\n",
    "import pypunisher as punisher\n",
    "\n",
    "# for quadratic regression\n",
    "from sklearn.preprocessing import PolynomialFeatures\n",
    "from sklearn.pipeline import make_pipeline\n",
    "\n",
    "# read in our dataset\n",
    "filename = 'anscombe.csv'\n",
    "\n",
    "df = pd.read_csv(filename)\n",
    "\n",
    "df"
   ]
  },
  {
   "cell_type": "markdown",
   "metadata": {},
   "source": [
    "When we use the the read_csv() function out of the box by passing just the filename, pandas can automatically guess the header row and separator in the csv file as indicated by the documentation (https://pandas.pydata.org/pandas-docs/stable/generated/pandas.read_csv.html)\n",
    "\n",
    "Anyway, while this looks good, we can present it in a better form.\n",
    "\n",
    "First, we should use the first column within the dataset itself as the index, and then reorder the columns such that x1 is next to y1 and so on."
   ]
  },
  {
   "cell_type": "code",
   "execution_count": 2,
   "metadata": {},
   "outputs": [
    {
     "data": {
      "text/html": [
       "<div>\n",
       "<style scoped>\n",
       "    .dataframe tbody tr th:only-of-type {\n",
       "        vertical-align: middle;\n",
       "    }\n",
       "\n",
       "    .dataframe tbody tr th {\n",
       "        vertical-align: top;\n",
       "    }\n",
       "\n",
       "    .dataframe thead th {\n",
       "        text-align: right;\n",
       "    }\n",
       "</style>\n",
       "<table border=\"1\" class=\"dataframe\">\n",
       "  <thead>\n",
       "    <tr style=\"text-align: right;\">\n",
       "      <th></th>\n",
       "      <th>x1</th>\n",
       "      <th>y1</th>\n",
       "      <th>x2</th>\n",
       "      <th>y2</th>\n",
       "      <th>x3</th>\n",
       "      <th>y3</th>\n",
       "      <th>x4</th>\n",
       "      <th>y4</th>\n",
       "    </tr>\n",
       "  </thead>\n",
       "  <tbody>\n",
       "    <tr>\n",
       "      <th>1</th>\n",
       "      <td>10</td>\n",
       "      <td>8.04</td>\n",
       "      <td>10</td>\n",
       "      <td>9.14</td>\n",
       "      <td>10</td>\n",
       "      <td>7.46</td>\n",
       "      <td>8</td>\n",
       "      <td>6.58</td>\n",
       "    </tr>\n",
       "    <tr>\n",
       "      <th>2</th>\n",
       "      <td>8</td>\n",
       "      <td>6.95</td>\n",
       "      <td>8</td>\n",
       "      <td>8.14</td>\n",
       "      <td>8</td>\n",
       "      <td>6.77</td>\n",
       "      <td>8</td>\n",
       "      <td>5.76</td>\n",
       "    </tr>\n",
       "    <tr>\n",
       "      <th>3</th>\n",
       "      <td>13</td>\n",
       "      <td>7.58</td>\n",
       "      <td>13</td>\n",
       "      <td>8.74</td>\n",
       "      <td>13</td>\n",
       "      <td>12.74</td>\n",
       "      <td>8</td>\n",
       "      <td>7.71</td>\n",
       "    </tr>\n",
       "    <tr>\n",
       "      <th>4</th>\n",
       "      <td>9</td>\n",
       "      <td>8.81</td>\n",
       "      <td>9</td>\n",
       "      <td>8.77</td>\n",
       "      <td>9</td>\n",
       "      <td>7.11</td>\n",
       "      <td>8</td>\n",
       "      <td>8.84</td>\n",
       "    </tr>\n",
       "    <tr>\n",
       "      <th>5</th>\n",
       "      <td>11</td>\n",
       "      <td>8.33</td>\n",
       "      <td>11</td>\n",
       "      <td>9.26</td>\n",
       "      <td>11</td>\n",
       "      <td>7.81</td>\n",
       "      <td>8</td>\n",
       "      <td>8.47</td>\n",
       "    </tr>\n",
       "    <tr>\n",
       "      <th>6</th>\n",
       "      <td>14</td>\n",
       "      <td>9.96</td>\n",
       "      <td>14</td>\n",
       "      <td>8.10</td>\n",
       "      <td>14</td>\n",
       "      <td>8.84</td>\n",
       "      <td>8</td>\n",
       "      <td>7.04</td>\n",
       "    </tr>\n",
       "    <tr>\n",
       "      <th>7</th>\n",
       "      <td>6</td>\n",
       "      <td>7.24</td>\n",
       "      <td>6</td>\n",
       "      <td>6.13</td>\n",
       "      <td>6</td>\n",
       "      <td>6.08</td>\n",
       "      <td>8</td>\n",
       "      <td>5.25</td>\n",
       "    </tr>\n",
       "    <tr>\n",
       "      <th>8</th>\n",
       "      <td>4</td>\n",
       "      <td>4.26</td>\n",
       "      <td>4</td>\n",
       "      <td>3.10</td>\n",
       "      <td>4</td>\n",
       "      <td>5.39</td>\n",
       "      <td>19</td>\n",
       "      <td>12.50</td>\n",
       "    </tr>\n",
       "    <tr>\n",
       "      <th>9</th>\n",
       "      <td>12</td>\n",
       "      <td>10.84</td>\n",
       "      <td>12</td>\n",
       "      <td>9.13</td>\n",
       "      <td>12</td>\n",
       "      <td>8.15</td>\n",
       "      <td>8</td>\n",
       "      <td>5.56</td>\n",
       "    </tr>\n",
       "    <tr>\n",
       "      <th>10</th>\n",
       "      <td>7</td>\n",
       "      <td>4.82</td>\n",
       "      <td>7</td>\n",
       "      <td>7.26</td>\n",
       "      <td>7</td>\n",
       "      <td>6.42</td>\n",
       "      <td>8</td>\n",
       "      <td>7.91</td>\n",
       "    </tr>\n",
       "    <tr>\n",
       "      <th>11</th>\n",
       "      <td>5</td>\n",
       "      <td>5.68</td>\n",
       "      <td>5</td>\n",
       "      <td>4.74</td>\n",
       "      <td>5</td>\n",
       "      <td>5.73</td>\n",
       "      <td>8</td>\n",
       "      <td>6.89</td>\n",
       "    </tr>\n",
       "  </tbody>\n",
       "</table>\n",
       "</div>"
      ],
      "text/plain": [
       "    x1     y1  x2    y2  x3     y3  x4     y4\n",
       "1   10   8.04  10  9.14  10   7.46   8   6.58\n",
       "2    8   6.95   8  8.14   8   6.77   8   5.76\n",
       "3   13   7.58  13  8.74  13  12.74   8   7.71\n",
       "4    9   8.81   9  8.77   9   7.11   8   8.84\n",
       "5   11   8.33  11  9.26  11   7.81   8   8.47\n",
       "6   14   9.96  14  8.10  14   8.84   8   7.04\n",
       "7    6   7.24   6  6.13   6   6.08   8   5.25\n",
       "8    4   4.26   4  3.10   4   5.39  19  12.50\n",
       "9   12  10.84  12  9.13  12   8.15   8   5.56\n",
       "10   7   4.82   7  7.26   7   6.42   8   7.91\n",
       "11   5   5.68   5  4.74   5   5.73   8   6.89"
      ]
     },
     "execution_count": 2,
     "metadata": {},
     "output_type": "execute_result"
    }
   ],
   "source": [
    "df = pd.read_csv(filename, index_col=0)\n",
    "df = df[['x1','y1', 'x2','y2', 'x3', 'y3', 'x4', 'y4']]\n",
    "df"
   ]
  },
  {
   "cell_type": "markdown",
   "metadata": {},
   "source": [
    "However, the table above is looks too plain and can be made much more interesting looking. Now, it is obvious to us that the the quartets are x1/y1, x2/y2... Let's make it better looking by coloring the columns.\n"
   ]
  },
  {
   "cell_type": "code",
   "execution_count": 3,
   "metadata": {},
   "outputs": [
    {
     "data": {
      "application/vnd.plotly.v1+json": {
       "data": [
        {
         "cells": {
          "align": [
           "center"
          ],
          "fill": {
           "color": [
            "red",
            "red",
            "yellow",
            "yellow",
            "lightgreen",
            "lightgreen",
            "black",
            "black"
           ]
          },
          "font": {
           "color": [
            "white",
            "white",
            "black",
            "black",
            "black",
            "black",
            "white",
            "white"
           ]
          },
          "values": [
           [
            10,
            8,
            13,
            9,
            11,
            14,
            6,
            4,
            12,
            7,
            5
           ],
           [
            8.04,
            6.95,
            7.58,
            8.81,
            8.33,
            9.96,
            7.24,
            4.26,
            10.84,
            4.82,
            5.68
           ],
           [
            10,
            8,
            13,
            9,
            11,
            14,
            6,
            4,
            12,
            7,
            5
           ],
           [
            9.14,
            8.14,
            8.74,
            8.77,
            9.26,
            8.1,
            6.13,
            3.1,
            9.13,
            7.26,
            4.74
           ],
           [
            10,
            8,
            13,
            9,
            11,
            14,
            6,
            4,
            12,
            7,
            5
           ],
           [
            7.46,
            6.77,
            12.74,
            7.11,
            7.81,
            8.84,
            6.08,
            5.39,
            8.15,
            6.42,
            5.73
           ],
           [
            8,
            8,
            8,
            8,
            8,
            8,
            8,
            19,
            8,
            8,
            8
           ],
           [
            6.58,
            5.76,
            7.71,
            8.84,
            8.47,
            7.04,
            5.25,
            12.5,
            5.56,
            7.91,
            6.89
           ]
          ]
         },
         "header": {
          "align": [
           "center"
          ],
          "fill": {
           "color": "blue"
          },
          "font": {
           "color": "white"
          },
          "values": [
           "x1",
           "y1",
           "x2",
           "y2",
           "x3",
           "y3",
           "x4",
           "y4"
          ]
         },
         "type": "table",
         "uid": "3e422609-6408-4e6d-973b-785da790ba77"
        }
       ],
       "layout": {}
      },
      "text/html": [
       "<div id=\"50169d57-9309-4146-b5de-e691b1481959\" style=\"height: 525px; width: 100%;\" class=\"plotly-graph-div\"></div><script type=\"text/javascript\">require([\"plotly\"], function(Plotly) { window.PLOTLYENV=window.PLOTLYENV || {};window.PLOTLYENV.BASE_URL=\"https://plot.ly\";Plotly.newPlot(\"50169d57-9309-4146-b5de-e691b1481959\", [{\"cells\": {\"align\": [\"center\"], \"fill\": {\"color\": [\"red\", \"red\", \"yellow\", \"yellow\", \"lightgreen\", \"lightgreen\", \"black\", \"black\"]}, \"font\": {\"color\": [\"white\", \"white\", \"black\", \"black\", \"black\", \"black\", \"white\", \"white\"]}, \"values\": [[10, 8, 13, 9, 11, 14, 6, 4, 12, 7, 5], [8.04, 6.95, 7.58, 8.81, 8.33, 9.96, 7.24, 4.26, 10.84, 4.82, 5.68], [10, 8, 13, 9, 11, 14, 6, 4, 12, 7, 5], [9.14, 8.14, 8.74, 8.77, 9.26, 8.1, 6.13, 3.1, 9.13, 7.26, 4.74], [10, 8, 13, 9, 11, 14, 6, 4, 12, 7, 5], [7.46, 6.77, 12.74, 7.11, 7.81, 8.84, 6.08, 5.39, 8.15, 6.42, 5.73], [8, 8, 8, 8, 8, 8, 8, 19, 8, 8, 8], [6.58, 5.76, 7.71, 8.84, 8.47, 7.04, 5.25, 12.5, 5.56, 7.91, 6.89]]}, \"header\": {\"align\": [\"center\"], \"fill\": {\"color\": \"blue\"}, \"font\": {\"color\": \"white\"}, \"values\": [\"x1\", \"y1\", \"x2\", \"y2\", \"x3\", \"y3\", \"x4\", \"y4\"]}, \"type\": \"table\", \"uid\": \"ddd6237e-92a2-4512-a3e9-8ba7b50e862e\"}], {}, {\"showLink\": true, \"linkText\": \"Export to plot.ly\"})});</script><script type=\"text/javascript\">window.addEventListener(\"resize\", function(){Plotly.Plots.resize(document.getElementById(\"50169d57-9309-4146-b5de-e691b1481959\"));});</script>"
      ],
      "text/vnd.plotly.v1+html": [
       "<div id=\"50169d57-9309-4146-b5de-e691b1481959\" style=\"height: 525px; width: 100%;\" class=\"plotly-graph-div\"></div><script type=\"text/javascript\">require([\"plotly\"], function(Plotly) { window.PLOTLYENV=window.PLOTLYENV || {};window.PLOTLYENV.BASE_URL=\"https://plot.ly\";Plotly.newPlot(\"50169d57-9309-4146-b5de-e691b1481959\", [{\"cells\": {\"align\": [\"center\"], \"fill\": {\"color\": [\"red\", \"red\", \"yellow\", \"yellow\", \"lightgreen\", \"lightgreen\", \"black\", \"black\"]}, \"font\": {\"color\": [\"white\", \"white\", \"black\", \"black\", \"black\", \"black\", \"white\", \"white\"]}, \"values\": [[10, 8, 13, 9, 11, 14, 6, 4, 12, 7, 5], [8.04, 6.95, 7.58, 8.81, 8.33, 9.96, 7.24, 4.26, 10.84, 4.82, 5.68], [10, 8, 13, 9, 11, 14, 6, 4, 12, 7, 5], [9.14, 8.14, 8.74, 8.77, 9.26, 8.1, 6.13, 3.1, 9.13, 7.26, 4.74], [10, 8, 13, 9, 11, 14, 6, 4, 12, 7, 5], [7.46, 6.77, 12.74, 7.11, 7.81, 8.84, 6.08, 5.39, 8.15, 6.42, 5.73], [8, 8, 8, 8, 8, 8, 8, 19, 8, 8, 8], [6.58, 5.76, 7.71, 8.84, 8.47, 7.04, 5.25, 12.5, 5.56, 7.91, 6.89]]}, \"header\": {\"align\": [\"center\"], \"fill\": {\"color\": \"blue\"}, \"font\": {\"color\": \"white\"}, \"values\": [\"x1\", \"y1\", \"x2\", \"y2\", \"x3\", \"y3\", \"x4\", \"y4\"]}, \"type\": \"table\", \"uid\": \"ddd6237e-92a2-4512-a3e9-8ba7b50e862e\"}], {}, {\"showLink\": true, \"linkText\": \"Export to plot.ly\"})});</script><script type=\"text/javascript\">window.addEventListener(\"resize\", function(){Plotly.Plots.resize(document.getElementById(\"50169d57-9309-4146-b5de-e691b1481959\"));});</script>"
      ]
     },
     "metadata": {},
     "output_type": "display_data"
    }
   ],
   "source": [
    "# reference: https://plot.ly/python/table/\n",
    "\n",
    "trace = go.Table(\n",
    "    header=dict(values=list(df.columns),\n",
    "                fill = dict(color='blue'),\n",
    "                align = ['center'],\n",
    "                font = dict(color = 'white')\n",
    "               ),\n",
    "\n",
    "    cells=dict(values=[df.x1, df.y1,\n",
    "                       df.x2, df.y2,\n",
    "                       df.x3, df.y3,\n",
    "                       df.x4, df.y4],\n",
    "               fill = dict(color=['red', 'red', 'yellow', 'yellow', 'lightgreen', 'lightgreen', 'black', 'black']),\n",
    "               align = ['center'],\n",
    "               font = dict(color=['white', 'white', 'black', 'black', 'black', 'black', 'white', 'white'])\n",
    "              )\n",
    "               )\n",
    "\n",
    "data = [trace] \n",
    "iplot(data)"
   ]
  },
  {
   "cell_type": "markdown",
   "metadata": {},
   "source": [
    "We can also reorder the values in the column so that they make sense visually by looking at the table itself."
   ]
  },
  {
   "cell_type": "code",
   "execution_count": 4,
   "metadata": {},
   "outputs": [],
   "source": [
    "# reorder the table above\n",
    "\n",
    "#df_reordered_Q1 = df_reordered[['x1', 'y1']]\n",
    "#\n",
    "#df_reordered_Q1 = df_reordered_Q1.sort_values('x1')\n",
    "#\n",
    "#df_reordered_Q1\n",
    "\n",
    "# let's also split the df because we need to do some separate operations plotting, regression etc.\n",
    "# we need to reset the indices to make it easier for remerging etc.\n",
    "\n",
    "df_Q1 = df[['x1', 'y1']]\n",
    "df_Q1 = df_Q1.sort_values('x1')\n",
    "df_Q1 = df_Q1.reset_index(drop=True)\n",
    "\n",
    "df_Q2 = df[['x2', 'y2']]\n",
    "df_Q2 = df_Q2.sort_values('x2')\n",
    "df_Q2 = df_Q2.reset_index(drop=True)\n",
    "\n",
    "df_Q3 = df[['x3', 'y3']]\n",
    "df_Q3 = df_Q3.sort_values('x3')\n",
    "df_Q3 = df_Q3.reset_index(drop=True)\n",
    "\n",
    "df_Q4 = df[['x4', 'y4']]\n",
    "df_Q4 = df_Q4.sort_values('x4')\n",
    "df_Q4 = df_Q4.reset_index(drop=True)\n",
    "\n",
    "# however, plotly table header can only take 1 argument, so we need to join the headers together\n",
    "# ref: https://pandas.pydata.org/pandas-docs/stable/merging.html\n",
    "\n",
    "df = pd.concat([df_Q1, df_Q2, df_Q3, df_Q4], axis=1)"
   ]
  },
  {
   "cell_type": "code",
   "execution_count": 5,
   "metadata": {},
   "outputs": [
    {
     "data": {
      "application/vnd.plotly.v1+json": {
       "data": [
        {
         "cells": {
          "align": [
           "center"
          ],
          "fill": {
           "color": [
            "red",
            "red",
            "yellow",
            "yellow",
            "lightgreen",
            "lightgreen",
            "black",
            "black"
           ]
          },
          "font": {
           "color": [
            "white",
            "white",
            "black",
            "black",
            "black",
            "black",
            "white",
            "white"
           ]
          },
          "values": [
           [
            4,
            5,
            6,
            7,
            8,
            9,
            10,
            11,
            12,
            13,
            14
           ],
           [
            4.26,
            5.68,
            7.24,
            4.82,
            6.95,
            8.81,
            8.04,
            8.33,
            10.84,
            7.58,
            9.96
           ],
           [
            4,
            5,
            6,
            7,
            8,
            9,
            10,
            11,
            12,
            13,
            14
           ],
           [
            3.1,
            4.74,
            6.13,
            7.26,
            8.14,
            8.77,
            9.14,
            9.26,
            9.13,
            8.74,
            8.1
           ],
           [
            4,
            5,
            6,
            7,
            8,
            9,
            10,
            11,
            12,
            13,
            14
           ],
           [
            5.39,
            5.73,
            6.08,
            6.42,
            6.77,
            7.11,
            7.46,
            7.81,
            8.15,
            12.74,
            8.84
           ],
           [
            8,
            8,
            8,
            8,
            8,
            8,
            8,
            8,
            8,
            8,
            19
           ],
           [
            6.58,
            5.76,
            7.71,
            8.84,
            8.47,
            7.04,
            5.25,
            5.56,
            7.91,
            6.89,
            12.5
           ]
          ]
         },
         "header": {
          "align": [
           "center"
          ],
          "fill": {
           "color": "blue"
          },
          "font": {
           "color": "white"
          },
          "values": [
           "x1",
           "y1",
           "x2",
           "y2",
           "x3",
           "y3",
           "x4",
           "y4"
          ]
         },
         "type": "table",
         "uid": "9c380d27-935c-4344-a0e5-c5429973f45c"
        }
       ],
       "layout": {}
      },
      "text/html": [
       "<div id=\"3d2152c2-9b82-4f35-a551-6a9009833aa7\" style=\"height: 525px; width: 100%;\" class=\"plotly-graph-div\"></div><script type=\"text/javascript\">require([\"plotly\"], function(Plotly) { window.PLOTLYENV=window.PLOTLYENV || {};window.PLOTLYENV.BASE_URL=\"https://plot.ly\";Plotly.newPlot(\"3d2152c2-9b82-4f35-a551-6a9009833aa7\", [{\"cells\": {\"align\": [\"center\"], \"fill\": {\"color\": [\"red\", \"red\", \"yellow\", \"yellow\", \"lightgreen\", \"lightgreen\", \"black\", \"black\"]}, \"font\": {\"color\": [\"white\", \"white\", \"black\", \"black\", \"black\", \"black\", \"white\", \"white\"]}, \"values\": [[4, 5, 6, 7, 8, 9, 10, 11, 12, 13, 14], [4.26, 5.68, 7.24, 4.82, 6.95, 8.81, 8.04, 8.33, 10.84, 7.58, 9.96], [4, 5, 6, 7, 8, 9, 10, 11, 12, 13, 14], [3.1, 4.74, 6.13, 7.26, 8.14, 8.77, 9.14, 9.26, 9.13, 8.74, 8.1], [4, 5, 6, 7, 8, 9, 10, 11, 12, 13, 14], [5.39, 5.73, 6.08, 6.42, 6.77, 7.11, 7.46, 7.81, 8.15, 12.74, 8.84], [8, 8, 8, 8, 8, 8, 8, 8, 8, 8, 19], [6.58, 5.76, 7.71, 8.84, 8.47, 7.04, 5.25, 5.56, 7.91, 6.89, 12.5]]}, \"header\": {\"align\": [\"center\"], \"fill\": {\"color\": \"blue\"}, \"font\": {\"color\": \"white\"}, \"values\": [\"x1\", \"y1\", \"x2\", \"y2\", \"x3\", \"y3\", \"x4\", \"y4\"]}, \"type\": \"table\", \"uid\": \"baaab6cc-2acc-4b34-848d-ff09a8b00591\"}], {}, {\"showLink\": true, \"linkText\": \"Export to plot.ly\"})});</script><script type=\"text/javascript\">window.addEventListener(\"resize\", function(){Plotly.Plots.resize(document.getElementById(\"3d2152c2-9b82-4f35-a551-6a9009833aa7\"));});</script>"
      ],
      "text/vnd.plotly.v1+html": [
       "<div id=\"3d2152c2-9b82-4f35-a551-6a9009833aa7\" style=\"height: 525px; width: 100%;\" class=\"plotly-graph-div\"></div><script type=\"text/javascript\">require([\"plotly\"], function(Plotly) { window.PLOTLYENV=window.PLOTLYENV || {};window.PLOTLYENV.BASE_URL=\"https://plot.ly\";Plotly.newPlot(\"3d2152c2-9b82-4f35-a551-6a9009833aa7\", [{\"cells\": {\"align\": [\"center\"], \"fill\": {\"color\": [\"red\", \"red\", \"yellow\", \"yellow\", \"lightgreen\", \"lightgreen\", \"black\", \"black\"]}, \"font\": {\"color\": [\"white\", \"white\", \"black\", \"black\", \"black\", \"black\", \"white\", \"white\"]}, \"values\": [[4, 5, 6, 7, 8, 9, 10, 11, 12, 13, 14], [4.26, 5.68, 7.24, 4.82, 6.95, 8.81, 8.04, 8.33, 10.84, 7.58, 9.96], [4, 5, 6, 7, 8, 9, 10, 11, 12, 13, 14], [3.1, 4.74, 6.13, 7.26, 8.14, 8.77, 9.14, 9.26, 9.13, 8.74, 8.1], [4, 5, 6, 7, 8, 9, 10, 11, 12, 13, 14], [5.39, 5.73, 6.08, 6.42, 6.77, 7.11, 7.46, 7.81, 8.15, 12.74, 8.84], [8, 8, 8, 8, 8, 8, 8, 8, 8, 8, 19], [6.58, 5.76, 7.71, 8.84, 8.47, 7.04, 5.25, 5.56, 7.91, 6.89, 12.5]]}, \"header\": {\"align\": [\"center\"], \"fill\": {\"color\": \"blue\"}, \"font\": {\"color\": \"white\"}, \"values\": [\"x1\", \"y1\", \"x2\", \"y2\", \"x3\", \"y3\", \"x4\", \"y4\"]}, \"type\": \"table\", \"uid\": \"baaab6cc-2acc-4b34-848d-ff09a8b00591\"}], {}, {\"showLink\": true, \"linkText\": \"Export to plot.ly\"})});</script><script type=\"text/javascript\">window.addEventListener(\"resize\", function(){Plotly.Plots.resize(document.getElementById(\"3d2152c2-9b82-4f35-a551-6a9009833aa7\"));});</script>"
      ]
     },
     "metadata": {},
     "output_type": "display_data"
    }
   ],
   "source": [
    "trace = go.Table(\n",
    "    header=dict(values=list(df.columns),\n",
    "                fill = dict(color='blue'),\n",
    "                align = ['center'],\n",
    "                font = dict(color = 'white')\n",
    "               ),\n",
    "\n",
    "    cells=dict(values=[df.x1, df.y1,\n",
    "                       df.x2, df.y2,\n",
    "                       df.x3, df.y3,\n",
    "                       df.x4, df.y4],\n",
    "               fill = dict(color=['red', 'red', 'yellow', 'yellow', 'lightgreen', 'lightgreen', 'black', 'black']),\n",
    "               align = ['center'],\n",
    "               font = dict(color=['white', 'white', 'black', 'black', 'black', 'black', 'white', 'white'])\n",
    "              )\n",
    "               )\n",
    "\n",
    "data = [trace] \n",
    "iplot(data)"
   ]
  },
  {
   "cell_type": "markdown",
   "metadata": {},
   "source": [
    "The table above easily shows to us that:\n",
    "\n",
    "1. Quartet IV is a bit problematic because the same value of x is associated with multiple y values, and there seems to be an outlier\n",
    "1. Quartet I - there is almost linear increase in y as x increases but with dips at a minimum of 2 points (roughly)\n",
    "1. Quartet II - y increases as x increases and then decreases again\n",
    "1. Quartet III - y increases as x increases but there is an outlier y (12.74)\n",
    "\n",
    "Of course, because humans are better with visuals, we'll just plot these."
   ]
  },
  {
   "cell_type": "code",
   "execution_count": 14,
   "metadata": {},
   "outputs": [
    {
     "name": "stdout",
     "output_type": "stream",
     "text": [
      "This is the format of your plot grid:\n",
      "[ (1,1) x1,y1 ]  [ (1,2) x2,y2 ]\n",
      "[ (2,1) x3,y3 ]  [ (2,2) x4,y4 ]\n",
      "\n"
     ]
    },
    {
     "data": {
      "application/vnd.plotly.v1+json": {
       "data": [
        {
         "mode": "lines+markers",
         "name": "Quartet 1: lines",
         "type": "scatter",
         "uid": "a27c877c-3b9b-4d1b-973f-ee3b8a018c29",
         "x": [
          4,
          5,
          6,
          7,
          8,
          9,
          10,
          11,
          12,
          13,
          14
         ],
         "xaxis": "x",
         "y": [
          4.26,
          5.68,
          7.24,
          4.82,
          6.95,
          8.81,
          8.04,
          8.33,
          10.84,
          7.58,
          9.96
         ],
         "yaxis": "y"
        },
        {
         "line": {
          "shape": "spline"
         },
         "mode": "lines",
         "name": "Quartet 1: spline",
         "type": "scatter",
         "uid": "0fb2d939-5f31-4109-ad27-462f4c58ea63",
         "x": [
          4,
          5,
          6,
          7,
          8,
          9,
          10,
          11,
          12,
          13,
          14
         ],
         "xaxis": "x",
         "y": [
          4.26,
          5.68,
          7.24,
          4.82,
          6.95,
          8.81,
          8.04,
          8.33,
          10.84,
          7.58,
          9.96
         ],
         "yaxis": "y"
        },
        {
         "mode": "lines+markers",
         "name": "Quartet 2: lines",
         "type": "scatter",
         "uid": "4aa53b1c-a48e-4ae8-84a1-64ddc894a65c",
         "x": [
          4,
          5,
          6,
          7,
          8,
          9,
          10,
          11,
          12,
          13,
          14
         ],
         "xaxis": "x2",
         "y": [
          3.1,
          4.74,
          6.13,
          7.26,
          8.14,
          8.77,
          9.14,
          9.26,
          9.13,
          8.74,
          8.1
         ],
         "yaxis": "y2"
        },
        {
         "mode": "lines+markers",
         "type": "scatter",
         "uid": "24411a99-6a53-4dae-8ae1-4f86aa51cffb",
         "x": [
          4,
          5,
          6,
          7,
          8,
          9,
          10,
          11,
          12,
          13,
          14
         ],
         "xaxis": "x3",
         "y": [
          5.39,
          5.73,
          6.08,
          6.42,
          6.77,
          7.11,
          7.46,
          7.81,
          8.15,
          12.74,
          8.84
         ],
         "yaxis": "y3"
        },
        {
         "line": {
          "shape": "spline"
         },
         "mode": "lines",
         "name": "Quartet 3: spline",
         "type": "scatter",
         "uid": "6530eadf-9a4b-42d4-9e0d-6952ac4b9ea5",
         "x": [
          4,
          5,
          6,
          7,
          8,
          9,
          10,
          11,
          12,
          13,
          14
         ],
         "xaxis": "x3",
         "y": [
          5.39,
          5.73,
          6.08,
          6.42,
          6.77,
          7.11,
          7.46,
          7.81,
          8.15,
          12.74,
          8.84
         ],
         "yaxis": "y3"
        },
        {
         "mode": "lines+markers",
         "name": "Quartet 4: lines",
         "type": "scatter",
         "uid": "4779b217-9b3f-4a6a-b301-3a11e8d7c5fb",
         "x": [
          8,
          8,
          8,
          8,
          8,
          8,
          8,
          8,
          8,
          8,
          19
         ],
         "xaxis": "x4",
         "y": [
          6.58,
          5.76,
          7.71,
          8.84,
          8.47,
          7.04,
          5.25,
          5.56,
          7.91,
          6.89,
          12.5
         ],
         "yaxis": "y4"
        },
        {
         "line": {
          "shape": "spline"
         },
         "mode": "lines",
         "name": "Quartet 4: spline",
         "type": "scatter",
         "uid": "de17509d-ba26-4588-bfd4-394bbd42da41",
         "x": [
          8,
          8,
          8,
          8,
          8,
          8,
          8,
          8,
          8,
          8,
          19
         ],
         "xaxis": "x4",
         "y": [
          6.58,
          5.76,
          7.71,
          8.84,
          8.47,
          7.04,
          5.25,
          5.56,
          7.91,
          6.89,
          12.5
         ],
         "yaxis": "y4"
        }
       ],
       "layout": {
        "annotations": [
         {
          "font": {
           "size": 16
          },
          "showarrow": false,
          "text": "Quartet 1",
          "x": 0.225,
          "xanchor": "center",
          "xref": "paper",
          "y": 1,
          "yanchor": "bottom",
          "yref": "paper"
         },
         {
          "font": {
           "size": 16
          },
          "showarrow": false,
          "text": "Quartet 2",
          "x": 0.775,
          "xanchor": "center",
          "xref": "paper",
          "y": 1,
          "yanchor": "bottom",
          "yref": "paper"
         },
         {
          "font": {
           "size": 16
          },
          "showarrow": false,
          "text": "Quartet 3",
          "x": 0.225,
          "xanchor": "center",
          "xref": "paper",
          "y": 0.375,
          "yanchor": "bottom",
          "yref": "paper"
         },
         {
          "font": {
           "size": 16
          },
          "showarrow": false,
          "text": "Quartet 4",
          "x": 0.775,
          "xanchor": "center",
          "xref": "paper",
          "y": 0.375,
          "yanchor": "bottom",
          "yref": "paper"
         }
        ],
        "title": "Anscombe's quartet",
        "xaxis": {
         "anchor": "y",
         "domain": [
          0,
          0.45
         ],
         "title": "x1"
        },
        "xaxis2": {
         "anchor": "y2",
         "domain": [
          0.55,
          1
         ],
         "title": "x2"
        },
        "xaxis3": {
         "anchor": "y3",
         "domain": [
          0,
          0.45
         ],
         "title": "x3"
        },
        "xaxis4": {
         "anchor": "y4",
         "domain": [
          0.55,
          1
         ],
         "title": "x4"
        },
        "yaxis": {
         "anchor": "x",
         "domain": [
          0.625,
          1
         ],
         "title": "y1"
        },
        "yaxis2": {
         "anchor": "x2",
         "domain": [
          0.625,
          1
         ],
         "title": "y2"
        },
        "yaxis3": {
         "anchor": "x3",
         "domain": [
          0,
          0.375
         ],
         "title": "y3"
        },
        "yaxis4": {
         "anchor": "x4",
         "domain": [
          0,
          0.375
         ],
         "title": "y4"
        }
       }
      },
      "text/html": [
       "<div id=\"4835351e-68aa-4e23-a8b2-d0bbad6f786a\" style=\"height: 525px; width: 100%;\" class=\"plotly-graph-div\"></div><script type=\"text/javascript\">require([\"plotly\"], function(Plotly) { window.PLOTLYENV=window.PLOTLYENV || {};window.PLOTLYENV.BASE_URL=\"https://plot.ly\";Plotly.newPlot(\"4835351e-68aa-4e23-a8b2-d0bbad6f786a\", [{\"mode\": \"lines+markers\", \"name\": \"Quartet 1: lines\", \"x\": [4, 5, 6, 7, 8, 9, 10, 11, 12, 13, 14], \"y\": [4.26, 5.68, 7.24, 4.82, 6.95, 8.81, 8.04, 8.33, 10.84, 7.58, 9.96], \"type\": \"scatter\", \"uid\": \"a27c877c-3b9b-4d1b-973f-ee3b8a018c29\", \"xaxis\": \"x\", \"yaxis\": \"y\"}, {\"line\": {\"shape\": \"spline\"}, \"mode\": \"lines\", \"name\": \"Quartet 1: spline\", \"x\": [4, 5, 6, 7, 8, 9, 10, 11, 12, 13, 14], \"y\": [4.26, 5.68, 7.24, 4.82, 6.95, 8.81, 8.04, 8.33, 10.84, 7.58, 9.96], \"type\": \"scatter\", \"uid\": \"0fb2d939-5f31-4109-ad27-462f4c58ea63\", \"xaxis\": \"x\", \"yaxis\": \"y\"}, {\"mode\": \"lines+markers\", \"name\": \"Quartet 2: lines\", \"x\": [4, 5, 6, 7, 8, 9, 10, 11, 12, 13, 14], \"y\": [3.1, 4.74, 6.13, 7.26, 8.14, 8.77, 9.14, 9.26, 9.13, 8.74, 8.1], \"type\": \"scatter\", \"uid\": \"4aa53b1c-a48e-4ae8-84a1-64ddc894a65c\", \"xaxis\": \"x2\", \"yaxis\": \"y2\"}, {\"mode\": \"lines+markers\", \"x\": [4, 5, 6, 7, 8, 9, 10, 11, 12, 13, 14], \"y\": [5.39, 5.73, 6.08, 6.42, 6.77, 7.11, 7.46, 7.81, 8.15, 12.74, 8.84], \"type\": \"scatter\", \"uid\": \"24411a99-6a53-4dae-8ae1-4f86aa51cffb\", \"xaxis\": \"x3\", \"yaxis\": \"y3\"}, {\"line\": {\"shape\": \"spline\"}, \"mode\": \"lines\", \"name\": \"Quartet 3: spline\", \"x\": [4, 5, 6, 7, 8, 9, 10, 11, 12, 13, 14], \"y\": [5.39, 5.73, 6.08, 6.42, 6.77, 7.11, 7.46, 7.81, 8.15, 12.74, 8.84], \"type\": \"scatter\", \"uid\": \"6530eadf-9a4b-42d4-9e0d-6952ac4b9ea5\", \"xaxis\": \"x3\", \"yaxis\": \"y3\"}, {\"mode\": \"lines+markers\", \"name\": \"Quartet 4: lines\", \"x\": [8, 8, 8, 8, 8, 8, 8, 8, 8, 8, 19], \"y\": [6.58, 5.76, 7.71, 8.84, 8.47, 7.04, 5.25, 5.56, 7.91, 6.89, 12.5], \"type\": \"scatter\", \"uid\": \"4779b217-9b3f-4a6a-b301-3a11e8d7c5fb\", \"xaxis\": \"x4\", \"yaxis\": \"y4\"}, {\"line\": {\"shape\": \"spline\"}, \"mode\": \"lines\", \"name\": \"Quartet 4: spline\", \"x\": [8, 8, 8, 8, 8, 8, 8, 8, 8, 8, 19], \"y\": [6.58, 5.76, 7.71, 8.84, 8.47, 7.04, 5.25, 5.56, 7.91, 6.89, 12.5], \"type\": \"scatter\", \"uid\": \"de17509d-ba26-4588-bfd4-394bbd42da41\", \"xaxis\": \"x4\", \"yaxis\": \"y4\"}], {\"annotations\": [{\"font\": {\"size\": 16}, \"showarrow\": false, \"text\": \"Quartet 1\", \"x\": 0.225, \"xanchor\": \"center\", \"xref\": \"paper\", \"y\": 1.0, \"yanchor\": \"bottom\", \"yref\": \"paper\"}, {\"font\": {\"size\": 16}, \"showarrow\": false, \"text\": \"Quartet 2\", \"x\": 0.775, \"xanchor\": \"center\", \"xref\": \"paper\", \"y\": 1.0, \"yanchor\": \"bottom\", \"yref\": \"paper\"}, {\"font\": {\"size\": 16}, \"showarrow\": false, \"text\": \"Quartet 3\", \"x\": 0.225, \"xanchor\": \"center\", \"xref\": \"paper\", \"y\": 0.375, \"yanchor\": \"bottom\", \"yref\": \"paper\"}, {\"font\": {\"size\": 16}, \"showarrow\": false, \"text\": \"Quartet 4\", \"x\": 0.775, \"xanchor\": \"center\", \"xref\": \"paper\", \"y\": 0.375, \"yanchor\": \"bottom\", \"yref\": \"paper\"}], \"xaxis\": {\"anchor\": \"y\", \"domain\": [0.0, 0.45], \"title\": \"x1\"}, \"yaxis\": {\"anchor\": \"x\", \"domain\": [0.625, 1.0], \"title\": \"y1\"}, \"xaxis2\": {\"anchor\": \"y2\", \"domain\": [0.55, 1.0], \"title\": \"x2\"}, \"yaxis2\": {\"anchor\": \"x2\", \"domain\": [0.625, 1.0], \"title\": \"y2\"}, \"xaxis3\": {\"anchor\": \"y3\", \"domain\": [0.0, 0.45], \"title\": \"x3\"}, \"yaxis3\": {\"anchor\": \"x3\", \"domain\": [0.0, 0.375], \"title\": \"y3\"}, \"xaxis4\": {\"anchor\": \"y4\", \"domain\": [0.55, 1.0], \"title\": \"x4\"}, \"yaxis4\": {\"anchor\": \"x4\", \"domain\": [0.0, 0.375], \"title\": \"y4\"}, \"title\": \"Anscombe's quartet\"}, {\"showLink\": true, \"linkText\": \"Export to plot.ly\"})});</script><script type=\"text/javascript\">window.addEventListener(\"resize\", function(){Plotly.Plots.resize(document.getElementById(\"4835351e-68aa-4e23-a8b2-d0bbad6f786a\"));});</script>"
      ],
      "text/vnd.plotly.v1+html": [
       "<div id=\"4835351e-68aa-4e23-a8b2-d0bbad6f786a\" style=\"height: 525px; width: 100%;\" class=\"plotly-graph-div\"></div><script type=\"text/javascript\">require([\"plotly\"], function(Plotly) { window.PLOTLYENV=window.PLOTLYENV || {};window.PLOTLYENV.BASE_URL=\"https://plot.ly\";Plotly.newPlot(\"4835351e-68aa-4e23-a8b2-d0bbad6f786a\", [{\"mode\": \"lines+markers\", \"name\": \"Quartet 1: lines\", \"x\": [4, 5, 6, 7, 8, 9, 10, 11, 12, 13, 14], \"y\": [4.26, 5.68, 7.24, 4.82, 6.95, 8.81, 8.04, 8.33, 10.84, 7.58, 9.96], \"type\": \"scatter\", \"uid\": \"a27c877c-3b9b-4d1b-973f-ee3b8a018c29\", \"xaxis\": \"x\", \"yaxis\": \"y\"}, {\"line\": {\"shape\": \"spline\"}, \"mode\": \"lines\", \"name\": \"Quartet 1: spline\", \"x\": [4, 5, 6, 7, 8, 9, 10, 11, 12, 13, 14], \"y\": [4.26, 5.68, 7.24, 4.82, 6.95, 8.81, 8.04, 8.33, 10.84, 7.58, 9.96], \"type\": \"scatter\", \"uid\": \"0fb2d939-5f31-4109-ad27-462f4c58ea63\", \"xaxis\": \"x\", \"yaxis\": \"y\"}, {\"mode\": \"lines+markers\", \"name\": \"Quartet 2: lines\", \"x\": [4, 5, 6, 7, 8, 9, 10, 11, 12, 13, 14], \"y\": [3.1, 4.74, 6.13, 7.26, 8.14, 8.77, 9.14, 9.26, 9.13, 8.74, 8.1], \"type\": \"scatter\", \"uid\": \"4aa53b1c-a48e-4ae8-84a1-64ddc894a65c\", \"xaxis\": \"x2\", \"yaxis\": \"y2\"}, {\"mode\": \"lines+markers\", \"x\": [4, 5, 6, 7, 8, 9, 10, 11, 12, 13, 14], \"y\": [5.39, 5.73, 6.08, 6.42, 6.77, 7.11, 7.46, 7.81, 8.15, 12.74, 8.84], \"type\": \"scatter\", \"uid\": \"24411a99-6a53-4dae-8ae1-4f86aa51cffb\", \"xaxis\": \"x3\", \"yaxis\": \"y3\"}, {\"line\": {\"shape\": \"spline\"}, \"mode\": \"lines\", \"name\": \"Quartet 3: spline\", \"x\": [4, 5, 6, 7, 8, 9, 10, 11, 12, 13, 14], \"y\": [5.39, 5.73, 6.08, 6.42, 6.77, 7.11, 7.46, 7.81, 8.15, 12.74, 8.84], \"type\": \"scatter\", \"uid\": \"6530eadf-9a4b-42d4-9e0d-6952ac4b9ea5\", \"xaxis\": \"x3\", \"yaxis\": \"y3\"}, {\"mode\": \"lines+markers\", \"name\": \"Quartet 4: lines\", \"x\": [8, 8, 8, 8, 8, 8, 8, 8, 8, 8, 19], \"y\": [6.58, 5.76, 7.71, 8.84, 8.47, 7.04, 5.25, 5.56, 7.91, 6.89, 12.5], \"type\": \"scatter\", \"uid\": \"4779b217-9b3f-4a6a-b301-3a11e8d7c5fb\", \"xaxis\": \"x4\", \"yaxis\": \"y4\"}, {\"line\": {\"shape\": \"spline\"}, \"mode\": \"lines\", \"name\": \"Quartet 4: spline\", \"x\": [8, 8, 8, 8, 8, 8, 8, 8, 8, 8, 19], \"y\": [6.58, 5.76, 7.71, 8.84, 8.47, 7.04, 5.25, 5.56, 7.91, 6.89, 12.5], \"type\": \"scatter\", \"uid\": \"de17509d-ba26-4588-bfd4-394bbd42da41\", \"xaxis\": \"x4\", \"yaxis\": \"y4\"}], {\"annotations\": [{\"font\": {\"size\": 16}, \"showarrow\": false, \"text\": \"Quartet 1\", \"x\": 0.225, \"xanchor\": \"center\", \"xref\": \"paper\", \"y\": 1.0, \"yanchor\": \"bottom\", \"yref\": \"paper\"}, {\"font\": {\"size\": 16}, \"showarrow\": false, \"text\": \"Quartet 2\", \"x\": 0.775, \"xanchor\": \"center\", \"xref\": \"paper\", \"y\": 1.0, \"yanchor\": \"bottom\", \"yref\": \"paper\"}, {\"font\": {\"size\": 16}, \"showarrow\": false, \"text\": \"Quartet 3\", \"x\": 0.225, \"xanchor\": \"center\", \"xref\": \"paper\", \"y\": 0.375, \"yanchor\": \"bottom\", \"yref\": \"paper\"}, {\"font\": {\"size\": 16}, \"showarrow\": false, \"text\": \"Quartet 4\", \"x\": 0.775, \"xanchor\": \"center\", \"xref\": \"paper\", \"y\": 0.375, \"yanchor\": \"bottom\", \"yref\": \"paper\"}], \"xaxis\": {\"anchor\": \"y\", \"domain\": [0.0, 0.45], \"title\": \"x1\"}, \"yaxis\": {\"anchor\": \"x\", \"domain\": [0.625, 1.0], \"title\": \"y1\"}, \"xaxis2\": {\"anchor\": \"y2\", \"domain\": [0.55, 1.0], \"title\": \"x2\"}, \"yaxis2\": {\"anchor\": \"x2\", \"domain\": [0.625, 1.0], \"title\": \"y2\"}, \"xaxis3\": {\"anchor\": \"y3\", \"domain\": [0.0, 0.45], \"title\": \"x3\"}, \"yaxis3\": {\"anchor\": \"x3\", \"domain\": [0.0, 0.375], \"title\": \"y3\"}, \"xaxis4\": {\"anchor\": \"y4\", \"domain\": [0.55, 1.0], \"title\": \"x4\"}, \"yaxis4\": {\"anchor\": \"x4\", \"domain\": [0.0, 0.375], \"title\": \"y4\"}, \"title\": \"Anscombe's quartet\"}, {\"showLink\": true, \"linkText\": \"Export to plot.ly\"})});</script><script type=\"text/javascript\">window.addEventListener(\"resize\", function(){Plotly.Plots.resize(document.getElementById(\"4835351e-68aa-4e23-a8b2-d0bbad6f786a\"));});</script>"
      ]
     },
     "metadata": {},
     "output_type": "display_data"
    }
   ],
   "source": [
    "# https://plot.ly/python/subplots/#customizing-subplot-axes\n",
    "\n",
    "trace1 = go.Scatter(x=df_Q1['x1'], y=df_Q1['y1'], mode='lines+markers', name = 'Quartet 1: lines')\n",
    "trace1_spline = go.Scatter(\n",
    "                  x=df_Q1['x1'],\n",
    "                  y=df_Q1['y1'],\n",
    "                  mode='lines',\n",
    "                  line=dict(shape='spline'),\n",
    "                  name='Quartet 1: spline'\n",
    "                  )\n",
    "\n",
    "# spline for Q2 will just be like the lines anyway\n",
    "trace2 = go.Scatter(x=df_Q2['x2'], y=df_Q2['y2'], mode='lines+markers', name = 'Quartet 2: lines')\n",
    "\n",
    "trace3 = go.Scatter(x=df_Q3['x3'], y=df_Q3['y3'], mode='lines+markers')\n",
    "trace3_spline = go.Scatter(\n",
    "                  x=df_Q3['x3'],\n",
    "                  y=df_Q3['y3'],\n",
    "                  mode='lines',\n",
    "                  line=dict(shape='spline'),\n",
    "                  name='Quartet 3: spline'\n",
    "                  )\n",
    "\n",
    "trace4 = go.Scatter(x=df_Q4['x4'], y=df_Q4['y4'], mode='lines+markers', name = 'Quartet 4: lines')\n",
    "trace4_spline = go.Scatter(\n",
    "                  x=df_Q4['x4'],\n",
    "                  y=df_Q4['y4'],\n",
    "                  mode='lines',\n",
    "                  line=dict(shape='spline'),\n",
    "                  name='Quartet 4: spline'\n",
    "                  )\n",
    "\n",
    "fig = tools.make_subplots(rows=2, cols=2, subplot_titles=('Quartet 1', 'Quartet 2',\n",
    "                                                          'Quartet 3', 'Quartet 4'))\n",
    "fig.append_trace(trace1, 1, 1)\n",
    "fig.append_trace(trace1_spline, 1, 1)\n",
    "\n",
    "fig.append_trace(trace2, 1, 2)\n",
    "\n",
    "fig.append_trace(trace3, 2, 1)\n",
    "fig.append_trace(trace3_spline, 2, 1)\n",
    "\n",
    "fig.append_trace(trace4, 2, 2)\n",
    "fig.append_trace(trace4_spline, 2, 2)\n",
    "\n",
    "fig['layout']['xaxis1'].update(title='x1')\n",
    "fig['layout']['xaxis2'].update(title='x2')\n",
    "fig['layout']['xaxis3'].update(title='x3')\n",
    "fig['layout']['xaxis4'].update(title='x4')\n",
    "\n",
    "fig['layout']['yaxis1'].update(title='y1')\n",
    "fig['layout']['yaxis2'].update(title='y2')\n",
    "fig['layout']['yaxis3'].update(title='y3')\n",
    "fig['layout']['yaxis4'].update(title='y4')\n",
    "\n",
    "fig['layout'].update(title=\"Anscombe's quartet\")\n",
    "\n",
    "iplot(fig)"
   ]
  },
  {
   "cell_type": "markdown",
   "metadata": {},
   "source": [
    "Now we can see these quartets visually that confirms our table assessment. Let's see what happens if we fit a linear regression line."
   ]
  },
  {
   "cell_type": "code",
   "execution_count": 15,
   "metadata": {},
   "outputs": [
    {
     "data": {
      "text/plain": [
       "(array([0.49990909]),\n",
       " array([0.49990909]),\n",
       " array([0.49990909]),\n",
       " array([0.49990909]),\n",
       " 3.0017272727272726,\n",
       " 3.0017272727272726,\n",
       " 3.0017272727272726,\n",
       " 3.0017272727272726)"
      ]
     },
     "execution_count": 15,
     "metadata": {},
     "output_type": "execute_result"
    }
   ],
   "source": [
    "# ref: https://plot.ly/scikit-learn/plot-ols/\n",
    "\n",
    "# Quartet 1\n",
    "Q1_X = df_Q1['x1'].iloc[:].values\n",
    "Q1_X = Q1_X.reshape(-1,1) # we have to reshape because the fit() function expects a 2D array\n",
    "Q1_Y = df_Q1['y1'].iloc[:].values\n",
    "\n",
    "# Quartet 2\n",
    "Q2_X = df_Q2['x2'].iloc[:].values\n",
    "Q2_X = Q2_X.reshape(-1,1) \n",
    "Q2_Y = df_Q2['y2'].iloc[:].values\n",
    "\n",
    "# Quartet 3\n",
    "Q3_X = df_Q3['x3'].iloc[:].values\n",
    "Q3_X = Q3_X.reshape(-1,1)\n",
    "Q3_Y = df_Q3['y3'].iloc[:].values\n",
    "\n",
    "# Quartet 4\n",
    "Q4_X = df_Q4['x4'].iloc[:].values\n",
    "Q4_X = Q4_X.reshape(-1,1)\n",
    "Q4_Y = df_Q4['y4'].iloc[:].values\n",
    "\n",
    "# variable to instantiate and hold the LinearRegression object\n",
    "regr = linear_model.LinearRegression()\n",
    "\n",
    "# let's fit linear lines to the X/Y in each quartet separately\n",
    "# this is actually similar to numpy polyfit function\n",
    "# ref: https://stackoverflow.com/questions/32660231/how-to-fit-a-polynomial-curve-to-data-using-scikit-learn\n",
    "regr_Q1 = regr.fit(Q1_X, Q1_Y)\n",
    "regr_Q2 = regr.fit(Q2_X, Q2_Y)\n",
    "regr_Q3 = regr.fit(Q3_X, Q3_Y)\n",
    "regr_Q4 = regr.fit(Q4_X, Q4_Y)\n",
    "\n",
    "# predicted Y values\n",
    "Q1_Y_pred = regr_Q1.predict(Q1_X)\n",
    "Q2_Y_pred = regr_Q2.predict(Q2_X)\n",
    "Q3_Y_pred = regr_Q3.predict(Q3_X)\n",
    "Q4_Y_pred = regr_Q4.predict(Q4_X)\n",
    "\n",
    "(regr_Q1.coef_, regr_Q2.coef_, regr_Q3.coef_, regr_Q4.coef_, \n",
    " regr_Q1.intercept_, regr_Q2.intercept_, regr_Q3.intercept_, regr_Q4.intercept_)"
   ]
  },
  {
   "cell_type": "markdown",
   "metadata": {},
   "source": [
    "The values above seem to be imply that the lines are all the same."
   ]
  },
  {
   "cell_type": "code",
   "execution_count": 29,
   "metadata": {},
   "outputs": [
    {
     "name": "stdout",
     "output_type": "stream",
     "text": [
      "Mean Absolute Error Q1: 0.8373057851239668\n",
      "Mean Squared Error Q1: 1.2511539669421492\n",
      "Root Mean Squared Error Q1: 1.1185499394046514\n",
      "R^2 (coefficient of determination) Q1: 0.6665423714029703\n",
      "---\n",
      "Mean Absolute Error Q2: 0.9679338842975208\n",
      "Mean Squared Error Q2: 1.2523901652892564\n",
      "Root Mean Squared Error Q2: 1.1191023926742611\n",
      "R^2 (coefficient of determination) Q2: 0.6662420117029544\n",
      "---\n",
      "Mean Absolute Error Q3: 0.7164793388429751\n",
      "Mean Squared Error Q3: 1.250564049586776\n",
      "Root Mean Squared Error Q3: 1.1182862109436815\n",
      "R^2 (coefficient of determination) Q3: 0.6663237323484936\n",
      "---\n",
      "Mean Absolute Error Q4: 0.9027272727272728\n",
      "Mean Squared Error Q4: 1.249317272727273\n",
      "Root Mean Squared Error Q4: 1.1177286221293936\n",
      "R^2 (coefficient of determination) Q4: 0.6667072568984653\n"
     ]
    }
   ],
   "source": [
    "print('Mean Absolute Error Q1:', metrics.mean_absolute_error(Q1_Y, Q1_Y_pred))  \n",
    "print('Mean Squared Error Q1:', metrics.mean_squared_error(Q1_Y, Q1_Y_pred))  \n",
    "print('Root Mean Squared Error Q1:', np.sqrt(metrics.mean_squared_error(Q1_Y, Q1_Y_pred)))\n",
    "print('R^2 (coefficient of determination) Q1:', metrics.r2_score(Q1_Y, Q1_Y_pred))\n",
    "print('---')\n",
    "\n",
    "print('Mean Absolute Error Q2:', metrics.mean_absolute_error(Q2_Y, Q2_Y_pred))\n",
    "print('Mean Squared Error Q2:', metrics.mean_squared_error(Q2_Y, Q2_Y_pred))\n",
    "print('Root Mean Squared Error Q2:', np.sqrt(metrics.mean_squared_error(Q2_Y, Q2_Y_pred)))\n",
    "print('R^2 (coefficient of determination) Q2:', metrics.r2_score(Q2_Y, Q2_Y_pred))\n",
    "print('---')\n",
    "\n",
    "print('Mean Absolute Error Q3:', metrics.mean_absolute_error(Q3_Y, Q3_Y_pred))\n",
    "print('Mean Squared Error Q3:', metrics.mean_squared_error(Q3_Y, Q3_Y_pred))  \n",
    "print('Root Mean Squared Error Q3:', np.sqrt(metrics.mean_squared_error(Q3_Y, Q3_Y_pred)))\n",
    "print('R^2 (coefficient of determination) Q3:', metrics.r2_score(Q3_Y, Q3_Y_pred))\n",
    "print('---')\n",
    "\n",
    "print('Mean Absolute Error Q4:', metrics.mean_absolute_error(Q4_Y, Q4_Y_pred))\n",
    "print('Mean Squared Error Q4:', metrics.mean_squared_error(Q4_Y, Q4_Y_pred))  \n",
    "print('Root Mean Squared Error Q4:', np.sqrt(metrics.mean_squared_error(Q4_Y, Q4_Y_pred)))\n",
    "print('R^2 (coefficient of determination) Q4:', metrics.r2_score(Q4_Y, Q4_Y_pred))"
   ]
  },
  {
   "cell_type": "markdown",
   "metadata": {},
   "source": [
    "Seems all the metrices are almost the same, which doesn't tell us anything. Let's now check the fits visually"
   ]
  },
  {
   "cell_type": "code",
   "execution_count": 16,
   "metadata": {},
   "outputs": [
    {
     "name": "stdout",
     "output_type": "stream",
     "text": [
      "This is the format of your plot grid:\n",
      "[ (1,1) x1,y1 ]  [ (1,2) x2,y2 ]\n",
      "[ (2,1) x3,y3 ]  [ (2,2) x4,y4 ]\n",
      "\n"
     ]
    },
    {
     "data": {
      "application/vnd.plotly.v1+json": {
       "data": [
        {
         "mode": "markers",
         "type": "scatter",
         "uid": "650f4737-6eac-4d83-aa7e-872ade8cebd8",
         "x": [
          4,
          5,
          6,
          7,
          8,
          9,
          10,
          11,
          12,
          13,
          14
         ],
         "xaxis": "x",
         "y": [
          4.26,
          5.68,
          7.24,
          4.82,
          6.95,
          8.81,
          8.04,
          8.33,
          10.84,
          7.58,
          9.96
         ],
         "yaxis": "y"
        },
        {
         "type": "scatter",
         "uid": "5081026e-ec71-4df4-ae6d-a85d0ffc7cd8",
         "x": [
          4,
          5,
          6,
          7,
          8,
          9,
          10,
          11,
          12,
          13,
          14
         ],
         "xaxis": "x",
         "y": [
          5.001363636363637,
          5.5012727272727275,
          6.001181818181818,
          6.501090909090909,
          7.001,
          7.500909090909091,
          8.000818181818182,
          8.500727272727273,
          9.000636363636364,
          9.500545454545456,
          10.000454545454545
         ],
         "yaxis": "y"
        },
        {
         "mode": "markers",
         "type": "scatter",
         "uid": "0e71a528-ce9c-4b9e-a0a7-9ba686591912",
         "x": [
          4,
          5,
          6,
          7,
          8,
          9,
          10,
          11,
          12,
          13,
          14
         ],
         "xaxis": "x2",
         "y": [
          3.1,
          4.74,
          6.13,
          7.26,
          8.14,
          8.77,
          9.14,
          9.26,
          9.13,
          8.74,
          8.1
         ],
         "yaxis": "y2"
        },
        {
         "type": "scatter",
         "uid": "7c282b84-7d0e-4e63-a1e5-8d218a4e8639",
         "x": [
          4,
          5,
          6,
          7,
          8,
          9,
          10,
          11,
          12,
          13,
          14
         ],
         "xaxis": "x2",
         "y": [
          5.001363636363637,
          5.5012727272727275,
          6.001181818181818,
          6.501090909090909,
          7.001,
          7.500909090909091,
          8.000818181818182,
          8.500727272727273,
          9.000636363636364,
          9.500545454545456,
          10.000454545454545
         ],
         "yaxis": "y2"
        },
        {
         "mode": "markers",
         "type": "scatter",
         "uid": "aa45e7bc-1465-474d-a6c8-6f9657047aec",
         "x": [
          4,
          5,
          6,
          7,
          8,
          9,
          10,
          11,
          12,
          13,
          14
         ],
         "xaxis": "x3",
         "y": [
          5.39,
          5.73,
          6.08,
          6.42,
          6.77,
          7.11,
          7.46,
          7.81,
          8.15,
          12.74,
          8.84
         ],
         "yaxis": "y3"
        },
        {
         "type": "scatter",
         "uid": "95b82d3f-fc38-4304-831d-0de394932885",
         "x": [
          4,
          5,
          6,
          7,
          8,
          9,
          10,
          11,
          12,
          13,
          14
         ],
         "xaxis": "x3",
         "y": [
          5.001363636363637,
          5.5012727272727275,
          6.001181818181818,
          6.501090909090909,
          7.001,
          7.500909090909091,
          8.000818181818182,
          8.500727272727273,
          9.000636363636364,
          9.500545454545456,
          10.000454545454545
         ],
         "yaxis": "y3"
        },
        {
         "mode": "markers",
         "type": "scatter",
         "uid": "450ee6b1-d906-456b-a253-251543a1259e",
         "x": [
          8,
          8,
          8,
          8,
          8,
          8,
          8,
          8,
          8,
          8,
          19
         ],
         "xaxis": "x4",
         "y": [
          6.58,
          5.76,
          7.71,
          8.84,
          8.47,
          7.04,
          5.25,
          5.56,
          7.91,
          6.89,
          12.5
         ],
         "yaxis": "y4"
        },
        {
         "type": "scatter",
         "uid": "4902ec4d-e74d-4c92-9aa0-a6afef9068ba",
         "x": [
          8,
          8,
          8,
          8,
          8,
          8,
          8,
          8,
          8,
          8,
          19
         ],
         "xaxis": "x4",
         "y": [
          7.001,
          7.001,
          7.001,
          7.001,
          7.001,
          7.001,
          7.001,
          7.001,
          7.001,
          7.001,
          12.500000000000002
         ],
         "yaxis": "y4"
        }
       ],
       "layout": {
        "annotations": [
         {
          "font": {
           "size": 16
          },
          "showarrow": false,
          "text": "Quartet 1",
          "x": 0.225,
          "xanchor": "center",
          "xref": "paper",
          "y": 1,
          "yanchor": "bottom",
          "yref": "paper"
         },
         {
          "font": {
           "size": 16
          },
          "showarrow": false,
          "text": "Quartet 2",
          "x": 0.775,
          "xanchor": "center",
          "xref": "paper",
          "y": 1,
          "yanchor": "bottom",
          "yref": "paper"
         },
         {
          "font": {
           "size": 16
          },
          "showarrow": false,
          "text": "Quartet 3",
          "x": 0.225,
          "xanchor": "center",
          "xref": "paper",
          "y": 0.375,
          "yanchor": "bottom",
          "yref": "paper"
         },
         {
          "font": {
           "size": 16
          },
          "showarrow": false,
          "text": "Quartet 4",
          "x": 0.775,
          "xanchor": "center",
          "xref": "paper",
          "y": 0.375,
          "yanchor": "bottom",
          "yref": "paper"
         }
        ],
        "title": "Anscombe's quartet",
        "xaxis": {
         "anchor": "y",
         "domain": [
          0,
          0.45
         ],
         "title": "x1"
        },
        "xaxis2": {
         "anchor": "y2",
         "domain": [
          0.55,
          1
         ],
         "title": "x2"
        },
        "xaxis3": {
         "anchor": "y3",
         "domain": [
          0,
          0.45
         ],
         "title": "x3"
        },
        "xaxis4": {
         "anchor": "y4",
         "domain": [
          0.55,
          1
         ],
         "title": "x4"
        },
        "yaxis": {
         "anchor": "x",
         "domain": [
          0.625,
          1
         ],
         "title": "y1"
        },
        "yaxis2": {
         "anchor": "x2",
         "domain": [
          0.625,
          1
         ],
         "title": "y2"
        },
        "yaxis3": {
         "anchor": "x3",
         "domain": [
          0,
          0.375
         ],
         "title": "y3"
        },
        "yaxis4": {
         "anchor": "x4",
         "domain": [
          0,
          0.375
         ],
         "title": "y4"
        }
       }
      },
      "text/html": [
       "<div id=\"2c641320-7f06-4302-b30a-bbaf86a89e2b\" style=\"height: 525px; width: 100%;\" class=\"plotly-graph-div\"></div><script type=\"text/javascript\">require([\"plotly\"], function(Plotly) { window.PLOTLYENV=window.PLOTLYENV || {};window.PLOTLYENV.BASE_URL=\"https://plot.ly\";Plotly.newPlot(\"2c641320-7f06-4302-b30a-bbaf86a89e2b\", [{\"mode\": \"markers\", \"x\": [4, 5, 6, 7, 8, 9, 10, 11, 12, 13, 14], \"y\": [4.26, 5.68, 7.24, 4.82, 6.95, 8.81, 8.04, 8.33, 10.84, 7.58, 9.96], \"type\": \"scatter\", \"uid\": \"650f4737-6eac-4d83-aa7e-872ade8cebd8\", \"xaxis\": \"x\", \"yaxis\": \"y\"}, {\"x\": [4, 5, 6, 7, 8, 9, 10, 11, 12, 13, 14], \"y\": [5.001363636363637, 5.5012727272727275, 6.001181818181818, 6.501090909090909, 7.001, 7.500909090909091, 8.000818181818182, 8.500727272727273, 9.000636363636364, 9.500545454545456, 10.000454545454545], \"type\": \"scatter\", \"uid\": \"5081026e-ec71-4df4-ae6d-a85d0ffc7cd8\", \"xaxis\": \"x\", \"yaxis\": \"y\"}, {\"mode\": \"markers\", \"x\": [4, 5, 6, 7, 8, 9, 10, 11, 12, 13, 14], \"y\": [3.1, 4.74, 6.13, 7.26, 8.14, 8.77, 9.14, 9.26, 9.13, 8.74, 8.1], \"type\": \"scatter\", \"uid\": \"0e71a528-ce9c-4b9e-a0a7-9ba686591912\", \"xaxis\": \"x2\", \"yaxis\": \"y2\"}, {\"x\": [4, 5, 6, 7, 8, 9, 10, 11, 12, 13, 14], \"y\": [5.001363636363637, 5.5012727272727275, 6.001181818181818, 6.501090909090909, 7.001, 7.500909090909091, 8.000818181818182, 8.500727272727273, 9.000636363636364, 9.500545454545456, 10.000454545454545], \"type\": \"scatter\", \"uid\": \"7c282b84-7d0e-4e63-a1e5-8d218a4e8639\", \"xaxis\": \"x2\", \"yaxis\": \"y2\"}, {\"mode\": \"markers\", \"x\": [4, 5, 6, 7, 8, 9, 10, 11, 12, 13, 14], \"y\": [5.39, 5.73, 6.08, 6.42, 6.77, 7.11, 7.46, 7.81, 8.15, 12.74, 8.84], \"type\": \"scatter\", \"uid\": \"aa45e7bc-1465-474d-a6c8-6f9657047aec\", \"xaxis\": \"x3\", \"yaxis\": \"y3\"}, {\"x\": [4, 5, 6, 7, 8, 9, 10, 11, 12, 13, 14], \"y\": [5.001363636363637, 5.5012727272727275, 6.001181818181818, 6.501090909090909, 7.001, 7.500909090909091, 8.000818181818182, 8.500727272727273, 9.000636363636364, 9.500545454545456, 10.000454545454545], \"type\": \"scatter\", \"uid\": \"95b82d3f-fc38-4304-831d-0de394932885\", \"xaxis\": \"x3\", \"yaxis\": \"y3\"}, {\"mode\": \"markers\", \"x\": [8, 8, 8, 8, 8, 8, 8, 8, 8, 8, 19], \"y\": [6.58, 5.76, 7.71, 8.84, 8.47, 7.04, 5.25, 5.56, 7.91, 6.89, 12.5], \"type\": \"scatter\", \"uid\": \"450ee6b1-d906-456b-a253-251543a1259e\", \"xaxis\": \"x4\", \"yaxis\": \"y4\"}, {\"x\": [8, 8, 8, 8, 8, 8, 8, 8, 8, 8, 19], \"y\": [7.001, 7.001, 7.001, 7.001, 7.001, 7.001, 7.001, 7.001, 7.001, 7.001, 12.500000000000002], \"type\": \"scatter\", \"uid\": \"4902ec4d-e74d-4c92-9aa0-a6afef9068ba\", \"xaxis\": \"x4\", \"yaxis\": \"y4\"}], {\"annotations\": [{\"font\": {\"size\": 16}, \"showarrow\": false, \"text\": \"Quartet 1\", \"x\": 0.225, \"xanchor\": \"center\", \"xref\": \"paper\", \"y\": 1.0, \"yanchor\": \"bottom\", \"yref\": \"paper\"}, {\"font\": {\"size\": 16}, \"showarrow\": false, \"text\": \"Quartet 2\", \"x\": 0.775, \"xanchor\": \"center\", \"xref\": \"paper\", \"y\": 1.0, \"yanchor\": \"bottom\", \"yref\": \"paper\"}, {\"font\": {\"size\": 16}, \"showarrow\": false, \"text\": \"Quartet 3\", \"x\": 0.225, \"xanchor\": \"center\", \"xref\": \"paper\", \"y\": 0.375, \"yanchor\": \"bottom\", \"yref\": \"paper\"}, {\"font\": {\"size\": 16}, \"showarrow\": false, \"text\": \"Quartet 4\", \"x\": 0.775, \"xanchor\": \"center\", \"xref\": \"paper\", \"y\": 0.375, \"yanchor\": \"bottom\", \"yref\": \"paper\"}], \"xaxis\": {\"anchor\": \"y\", \"domain\": [0.0, 0.45], \"title\": \"x1\"}, \"yaxis\": {\"anchor\": \"x\", \"domain\": [0.625, 1.0], \"title\": \"y1\"}, \"xaxis2\": {\"anchor\": \"y2\", \"domain\": [0.55, 1.0], \"title\": \"x2\"}, \"yaxis2\": {\"anchor\": \"x2\", \"domain\": [0.625, 1.0], \"title\": \"y2\"}, \"xaxis3\": {\"anchor\": \"y3\", \"domain\": [0.0, 0.45], \"title\": \"x3\"}, \"yaxis3\": {\"anchor\": \"x3\", \"domain\": [0.0, 0.375], \"title\": \"y3\"}, \"xaxis4\": {\"anchor\": \"y4\", \"domain\": [0.55, 1.0], \"title\": \"x4\"}, \"yaxis4\": {\"anchor\": \"x4\", \"domain\": [0.0, 0.375], \"title\": \"y4\"}, \"title\": \"Anscombe's quartet\"}, {\"showLink\": true, \"linkText\": \"Export to plot.ly\"})});</script><script type=\"text/javascript\">window.addEventListener(\"resize\", function(){Plotly.Plots.resize(document.getElementById(\"2c641320-7f06-4302-b30a-bbaf86a89e2b\"));});</script>"
      ],
      "text/vnd.plotly.v1+html": [
       "<div id=\"2c641320-7f06-4302-b30a-bbaf86a89e2b\" style=\"height: 525px; width: 100%;\" class=\"plotly-graph-div\"></div><script type=\"text/javascript\">require([\"plotly\"], function(Plotly) { window.PLOTLYENV=window.PLOTLYENV || {};window.PLOTLYENV.BASE_URL=\"https://plot.ly\";Plotly.newPlot(\"2c641320-7f06-4302-b30a-bbaf86a89e2b\", [{\"mode\": \"markers\", \"x\": [4, 5, 6, 7, 8, 9, 10, 11, 12, 13, 14], \"y\": [4.26, 5.68, 7.24, 4.82, 6.95, 8.81, 8.04, 8.33, 10.84, 7.58, 9.96], \"type\": \"scatter\", \"uid\": \"650f4737-6eac-4d83-aa7e-872ade8cebd8\", \"xaxis\": \"x\", \"yaxis\": \"y\"}, {\"x\": [4, 5, 6, 7, 8, 9, 10, 11, 12, 13, 14], \"y\": [5.001363636363637, 5.5012727272727275, 6.001181818181818, 6.501090909090909, 7.001, 7.500909090909091, 8.000818181818182, 8.500727272727273, 9.000636363636364, 9.500545454545456, 10.000454545454545], \"type\": \"scatter\", \"uid\": \"5081026e-ec71-4df4-ae6d-a85d0ffc7cd8\", \"xaxis\": \"x\", \"yaxis\": \"y\"}, {\"mode\": \"markers\", \"x\": [4, 5, 6, 7, 8, 9, 10, 11, 12, 13, 14], \"y\": [3.1, 4.74, 6.13, 7.26, 8.14, 8.77, 9.14, 9.26, 9.13, 8.74, 8.1], \"type\": \"scatter\", \"uid\": \"0e71a528-ce9c-4b9e-a0a7-9ba686591912\", \"xaxis\": \"x2\", \"yaxis\": \"y2\"}, {\"x\": [4, 5, 6, 7, 8, 9, 10, 11, 12, 13, 14], \"y\": [5.001363636363637, 5.5012727272727275, 6.001181818181818, 6.501090909090909, 7.001, 7.500909090909091, 8.000818181818182, 8.500727272727273, 9.000636363636364, 9.500545454545456, 10.000454545454545], \"type\": \"scatter\", \"uid\": \"7c282b84-7d0e-4e63-a1e5-8d218a4e8639\", \"xaxis\": \"x2\", \"yaxis\": \"y2\"}, {\"mode\": \"markers\", \"x\": [4, 5, 6, 7, 8, 9, 10, 11, 12, 13, 14], \"y\": [5.39, 5.73, 6.08, 6.42, 6.77, 7.11, 7.46, 7.81, 8.15, 12.74, 8.84], \"type\": \"scatter\", \"uid\": \"aa45e7bc-1465-474d-a6c8-6f9657047aec\", \"xaxis\": \"x3\", \"yaxis\": \"y3\"}, {\"x\": [4, 5, 6, 7, 8, 9, 10, 11, 12, 13, 14], \"y\": [5.001363636363637, 5.5012727272727275, 6.001181818181818, 6.501090909090909, 7.001, 7.500909090909091, 8.000818181818182, 8.500727272727273, 9.000636363636364, 9.500545454545456, 10.000454545454545], \"type\": \"scatter\", \"uid\": \"95b82d3f-fc38-4304-831d-0de394932885\", \"xaxis\": \"x3\", \"yaxis\": \"y3\"}, {\"mode\": \"markers\", \"x\": [8, 8, 8, 8, 8, 8, 8, 8, 8, 8, 19], \"y\": [6.58, 5.76, 7.71, 8.84, 8.47, 7.04, 5.25, 5.56, 7.91, 6.89, 12.5], \"type\": \"scatter\", \"uid\": \"450ee6b1-d906-456b-a253-251543a1259e\", \"xaxis\": \"x4\", \"yaxis\": \"y4\"}, {\"x\": [8, 8, 8, 8, 8, 8, 8, 8, 8, 8, 19], \"y\": [7.001, 7.001, 7.001, 7.001, 7.001, 7.001, 7.001, 7.001, 7.001, 7.001, 12.500000000000002], \"type\": \"scatter\", \"uid\": \"4902ec4d-e74d-4c92-9aa0-a6afef9068ba\", \"xaxis\": \"x4\", \"yaxis\": \"y4\"}], {\"annotations\": [{\"font\": {\"size\": 16}, \"showarrow\": false, \"text\": \"Quartet 1\", \"x\": 0.225, \"xanchor\": \"center\", \"xref\": \"paper\", \"y\": 1.0, \"yanchor\": \"bottom\", \"yref\": \"paper\"}, {\"font\": {\"size\": 16}, \"showarrow\": false, \"text\": \"Quartet 2\", \"x\": 0.775, \"xanchor\": \"center\", \"xref\": \"paper\", \"y\": 1.0, \"yanchor\": \"bottom\", \"yref\": \"paper\"}, {\"font\": {\"size\": 16}, \"showarrow\": false, \"text\": \"Quartet 3\", \"x\": 0.225, \"xanchor\": \"center\", \"xref\": \"paper\", \"y\": 0.375, \"yanchor\": \"bottom\", \"yref\": \"paper\"}, {\"font\": {\"size\": 16}, \"showarrow\": false, \"text\": \"Quartet 4\", \"x\": 0.775, \"xanchor\": \"center\", \"xref\": \"paper\", \"y\": 0.375, \"yanchor\": \"bottom\", \"yref\": \"paper\"}], \"xaxis\": {\"anchor\": \"y\", \"domain\": [0.0, 0.45], \"title\": \"x1\"}, \"yaxis\": {\"anchor\": \"x\", \"domain\": [0.625, 1.0], \"title\": \"y1\"}, \"xaxis2\": {\"anchor\": \"y2\", \"domain\": [0.55, 1.0], \"title\": \"x2\"}, \"yaxis2\": {\"anchor\": \"x2\", \"domain\": [0.625, 1.0], \"title\": \"y2\"}, \"xaxis3\": {\"anchor\": \"y3\", \"domain\": [0.0, 0.45], \"title\": \"x3\"}, \"yaxis3\": {\"anchor\": \"x3\", \"domain\": [0.0, 0.375], \"title\": \"y3\"}, \"xaxis4\": {\"anchor\": \"y4\", \"domain\": [0.55, 1.0], \"title\": \"x4\"}, \"yaxis4\": {\"anchor\": \"x4\", \"domain\": [0.0, 0.375], \"title\": \"y4\"}, \"title\": \"Anscombe's quartet\"}, {\"showLink\": true, \"linkText\": \"Export to plot.ly\"})});</script><script type=\"text/javascript\">window.addEventListener(\"resize\", function(){Plotly.Plots.resize(document.getElementById(\"2c641320-7f06-4302-b30a-bbaf86a89e2b\"));});</script>"
      ]
     },
     "metadata": {},
     "output_type": "display_data"
    }
   ],
   "source": [
    "# do the linear fit lines\n",
    "\n",
    "# https://plot.ly/python/subplots/#customizing-subplot-axes\n",
    "\n",
    "trace1 = go.Scatter(x=df_Q1['x1'], y=df_Q1['y1'], mode='markers')\n",
    "trace1_linReg = go.Scatter(x=df_Q1['x1'], y = Q1_Y_pred)\n",
    "\n",
    "trace2 = go.Scatter(x=df_Q2['x2'], y=df_Q2['y2'], mode='markers')\n",
    "trace2_linReg = go.Scatter(x=df_Q2['x2'], y = Q2_Y_pred)\n",
    "\n",
    "trace3 = go.Scatter(x=df_Q3['x3'], y=df_Q3['y3'], mode='markers')\n",
    "trace3_linReg = go.Scatter(x=df_Q3['x3'], y = Q3_Y_pred)\n",
    "\n",
    "trace4 = go.Scatter(x=df_Q4['x4'], y=df_Q4['y4'], mode='markers')\n",
    "trace4_linReg = go.Scatter(x=df_Q4['x4'], y = Q4_Y_pred)\n",
    "\n",
    "fig = tools.make_subplots(rows=2, cols=2, subplot_titles=('Quartet 1', 'Quartet 2',\n",
    "                                                          'Quartet 3', 'Quartet 4'))\n",
    "fig.append_trace(trace1, 1, 1)\n",
    "fig.append_trace(trace1_linReg, 1, 1)\n",
    "\n",
    "fig.append_trace(trace2, 1, 2)\n",
    "fig.append_trace(trace2_linReg, 1, 2)\n",
    "\n",
    "fig.append_trace(trace3, 2, 1)\n",
    "fig.append_trace(trace3_linReg, 2, 1)\n",
    "\n",
    "fig.append_trace(trace4, 2, 2)\n",
    "fig.append_trace(trace4_linReg, 2, 2)\n",
    "\n",
    "fig['layout']['xaxis1'].update(title='x1')\n",
    "fig['layout']['xaxis2'].update(title='x2')\n",
    "fig['layout']['xaxis3'].update(title='x3')\n",
    "fig['layout']['xaxis4'].update(title='x4')\n",
    "\n",
    "fig['layout']['yaxis1'].update(title='y1')\n",
    "fig['layout']['yaxis2'].update(title='y2')\n",
    "fig['layout']['yaxis3'].update(title='y3')\n",
    "fig['layout']['yaxis4'].update(title='y4')\n",
    "\n",
    "fig['layout'].update(title=\"Anscombe's quartet\")\n",
    "\n",
    "iplot(fig)"
   ]
  },
  {
   "cell_type": "markdown",
   "metadata": {},
   "source": [
    "Indeed, despite the presence of outliers has distorted the fit such that a linear fit looks deceivingly acceptable for all these cases. In reality, linear fit is only suitable for Quartet 1 and (a bit less) for Quartet 3. Quartet 2 is best modeled by a quadratic fit.\n",
    "\n",
    "We will do a few things further:\n",
    "\n",
    "1. check residual plot for Quartet 1\n",
    "1. Confirm that a quadratic fit for Quartet 2 is much better than a linear fit and then check the residual plot (use pypunisher code: (punisher.metrics.criterion.aic(regr_Q1, Q1_X, Q1_Y), punisher.metrics.criterion.bic(regr_Q1, Q1_X, Q1_Y)) to compare linear vs. quad.\n",
    "1. Do a formal outlier removal for Quartet 3 and 4\n",
    "\n",
    "### Visual check of Quartet 1 linear fit by residual plot"
   ]
  },
  {
   "cell_type": "code",
   "execution_count": 32,
   "metadata": {},
   "outputs": [
    {
     "data": {
      "application/vnd.plotly.v1+json": {
       "data": [
        {
         "mode": "markers",
         "type": "scatter",
         "uid": "aba26199-406f-446e-9529-9e9a13fc3e00",
         "x": [
          5.001363636363637,
          5.5012727272727275,
          6.001181818181818,
          6.501090909090909,
          7.001,
          7.500909090909091,
          8.000818181818182,
          8.500727272727273,
          9.000636363636364,
          9.500545454545456,
          10.000454545454545
         ],
         "y": [
          0.7413636363636371,
          -0.17872727272727218,
          -1.238818181818182,
          1.6810909090909085,
          0.051000000000000156,
          -1.3090909090909095,
          -0.03918181818181665,
          0.17072727272727306,
          -1.839363636363636,
          1.920545454545456,
          0.04045454545454419
         ]
        }
       ],
       "layout": {}
      },
      "text/html": [
       "<div id=\"c3b61bab-0e11-4477-a31d-053423a83051\" style=\"height: 525px; width: 100%;\" class=\"plotly-graph-div\"></div><script type=\"text/javascript\">require([\"plotly\"], function(Plotly) { window.PLOTLYENV=window.PLOTLYENV || {};window.PLOTLYENV.BASE_URL=\"https://plot.ly\";Plotly.newPlot(\"c3b61bab-0e11-4477-a31d-053423a83051\", [{\"mode\": \"markers\", \"x\": [5.001363636363637, 5.5012727272727275, 6.001181818181818, 6.501090909090909, 7.001, 7.500909090909091, 8.000818181818182, 8.500727272727273, 9.000636363636364, 9.500545454545456, 10.000454545454545], \"y\": [0.7413636363636371, -0.17872727272727218, -1.238818181818182, 1.6810909090909085, 0.051000000000000156, -1.3090909090909095, -0.03918181818181665, 0.17072727272727306, -1.839363636363636, 1.920545454545456, 0.04045454545454419], \"type\": \"scatter\", \"uid\": \"aba26199-406f-446e-9529-9e9a13fc3e00\"}], {}, {\"showLink\": true, \"linkText\": \"Export to plot.ly\"})});</script><script type=\"text/javascript\">window.addEventListener(\"resize\", function(){Plotly.Plots.resize(document.getElementById(\"c3b61bab-0e11-4477-a31d-053423a83051\"));});</script>"
      ],
      "text/vnd.plotly.v1+html": [
       "<div id=\"c3b61bab-0e11-4477-a31d-053423a83051\" style=\"height: 525px; width: 100%;\" class=\"plotly-graph-div\"></div><script type=\"text/javascript\">require([\"plotly\"], function(Plotly) { window.PLOTLYENV=window.PLOTLYENV || {};window.PLOTLYENV.BASE_URL=\"https://plot.ly\";Plotly.newPlot(\"c3b61bab-0e11-4477-a31d-053423a83051\", [{\"mode\": \"markers\", \"x\": [5.001363636363637, 5.5012727272727275, 6.001181818181818, 6.501090909090909, 7.001, 7.500909090909091, 8.000818181818182, 8.500727272727273, 9.000636363636364, 9.500545454545456, 10.000454545454545], \"y\": [0.7413636363636371, -0.17872727272727218, -1.238818181818182, 1.6810909090909085, 0.051000000000000156, -1.3090909090909095, -0.03918181818181665, 0.17072727272727306, -1.839363636363636, 1.920545454545456, 0.04045454545454419], \"type\": \"scatter\", \"uid\": \"aba26199-406f-446e-9529-9e9a13fc3e00\"}], {}, {\"showLink\": true, \"linkText\": \"Export to plot.ly\"})});</script><script type=\"text/javascript\">window.addEventListener(\"resize\", function(){Plotly.Plots.resize(document.getElementById(\"c3b61bab-0e11-4477-a31d-053423a83051\"));});</script>"
      ]
     },
     "metadata": {},
     "output_type": "display_data"
    }
   ],
   "source": [
    "# calculate the residuals\n",
    "Q1_residual = Q1_Y_pred - Q1_Y\n",
    "\n",
    "data = [go.Scatter(x=Q1_Y_pred, y = Q1_residual, mode='markers')]\n",
    "\n",
    "fig = go.Figure(data=data)\n",
    "iplot(fig)"
   ]
  },
  {
   "cell_type": "markdown",
   "metadata": {},
   "source": [
    "The residual plot above shows no apparent structure and the values are scattered above and below 0 randomly, which means the linear fit is good.\n",
    "\n",
    "### Quartet 2 linear vs. quadratic fits"
   ]
  },
  {
   "cell_type": "code",
   "execution_count": 46,
   "metadata": {},
   "outputs": [
    {
     "data": {
      "application/vnd.plotly.v1+json": {
       "data": [
        {
         "marker": {
          "color": "black"
         },
         "mode": "markers",
         "name": "Quartet 2",
         "type": "scatter",
         "uid": "feb4c44e-0ece-4129-90ff-6b1dcbbfd270",
         "x": [
          4,
          5,
          6,
          7,
          8,
          9,
          10,
          11,
          12,
          13,
          14
         ],
         "y": [
          3.1,
          4.74,
          6.13,
          7.26,
          8.14,
          8.77,
          9.14,
          9.26,
          9.13,
          8.74,
          8.1
         ]
        },
        {
         "line": {
          "color": "blue",
          "width": 3
         },
         "mode": "lines",
         "name": "Quartet 2 - linear fit",
         "type": "scatter",
         "uid": "565d4277-d25c-4b60-8a35-263844a7e353",
         "x": [
          4,
          5,
          6,
          7,
          8,
          9,
          10,
          11,
          12,
          13,
          14
         ],
         "y": [
          5.001363636363637,
          5.5012727272727275,
          6.001181818181818,
          6.501090909090909,
          7.001,
          7.500909090909091,
          8.000818181818182,
          8.500727272727273,
          9.000636363636364,
          9.500545454545456,
          10.000454545454545
         ]
        },
        {
         "line": {
          "color": "lightgreen",
          "width": 3
         },
         "mode": "lines",
         "name": "Quartet 2 - quadratic fit",
         "type": "scatter",
         "uid": "8b0b5eb4-7d37-4e4e-8cc0-81cee1771239",
         "x": [
          4,
          5,
          6,
          7,
          8,
          9,
          10,
          11,
          12,
          13,
          14
         ],
         "y": [
          3.1002097902097887,
          4.740629370629364,
          6.127622377622366,
          7.2611888111887986,
          8.141328671328658,
          8.768041958041945,
          9.141328671328665,
          9.261188811188813,
          9.127622377622387,
          8.740629370629389,
          8.100209790209828
         ]
        }
       ],
       "layout": {}
      },
      "text/html": [
       "<div id=\"f63f91c0-245c-4298-b539-a0df6e23ffe8\" style=\"height: 525px; width: 100%;\" class=\"plotly-graph-div\"></div><script type=\"text/javascript\">require([\"plotly\"], function(Plotly) { window.PLOTLYENV=window.PLOTLYENV || {};window.PLOTLYENV.BASE_URL=\"https://plot.ly\";Plotly.newPlot(\"f63f91c0-245c-4298-b539-a0df6e23ffe8\", [{\"marker\": {\"color\": \"black\"}, \"mode\": \"markers\", \"name\": \"Quartet 2\", \"x\": [4, 5, 6, 7, 8, 9, 10, 11, 12, 13, 14], \"y\": [3.1, 4.74, 6.13, 7.26, 8.14, 8.77, 9.14, 9.26, 9.13, 8.74, 8.1], \"type\": \"scatter\", \"uid\": \"feb4c44e-0ece-4129-90ff-6b1dcbbfd270\"}, {\"line\": {\"color\": \"blue\", \"width\": 3}, \"mode\": \"lines\", \"name\": \"Quartet 2 - linear fit\", \"x\": [4, 5, 6, 7, 8, 9, 10, 11, 12, 13, 14], \"y\": [5.001363636363637, 5.5012727272727275, 6.001181818181818, 6.501090909090909, 7.001, 7.500909090909091, 8.000818181818182, 8.500727272727273, 9.000636363636364, 9.500545454545456, 10.000454545454545], \"type\": \"scatter\", \"uid\": \"565d4277-d25c-4b60-8a35-263844a7e353\"}, {\"line\": {\"color\": \"lightgreen\", \"width\": 3}, \"mode\": \"lines\", \"name\": \"Quartet 2 - quadratic fit\", \"x\": [4, 5, 6, 7, 8, 9, 10, 11, 12, 13, 14], \"y\": [3.1002097902097887, 4.740629370629364, 6.127622377622366, 7.2611888111887986, 8.141328671328658, 8.768041958041945, 9.141328671328665, 9.261188811188813, 9.127622377622387, 8.740629370629389, 8.100209790209828], \"type\": \"scatter\", \"uid\": \"8b0b5eb4-7d37-4e4e-8cc0-81cee1771239\"}], {}, {\"showLink\": true, \"linkText\": \"Export to plot.ly\"})});</script><script type=\"text/javascript\">window.addEventListener(\"resize\", function(){Plotly.Plots.resize(document.getElementById(\"f63f91c0-245c-4298-b539-a0df6e23ffe8\"));});</script>"
      ],
      "text/vnd.plotly.v1+html": [
       "<div id=\"f63f91c0-245c-4298-b539-a0df6e23ffe8\" style=\"height: 525px; width: 100%;\" class=\"plotly-graph-div\"></div><script type=\"text/javascript\">require([\"plotly\"], function(Plotly) { window.PLOTLYENV=window.PLOTLYENV || {};window.PLOTLYENV.BASE_URL=\"https://plot.ly\";Plotly.newPlot(\"f63f91c0-245c-4298-b539-a0df6e23ffe8\", [{\"marker\": {\"color\": \"black\"}, \"mode\": \"markers\", \"name\": \"Quartet 2\", \"x\": [4, 5, 6, 7, 8, 9, 10, 11, 12, 13, 14], \"y\": [3.1, 4.74, 6.13, 7.26, 8.14, 8.77, 9.14, 9.26, 9.13, 8.74, 8.1], \"type\": \"scatter\", \"uid\": \"feb4c44e-0ece-4129-90ff-6b1dcbbfd270\"}, {\"line\": {\"color\": \"blue\", \"width\": 3}, \"mode\": \"lines\", \"name\": \"Quartet 2 - linear fit\", \"x\": [4, 5, 6, 7, 8, 9, 10, 11, 12, 13, 14], \"y\": [5.001363636363637, 5.5012727272727275, 6.001181818181818, 6.501090909090909, 7.001, 7.500909090909091, 8.000818181818182, 8.500727272727273, 9.000636363636364, 9.500545454545456, 10.000454545454545], \"type\": \"scatter\", \"uid\": \"565d4277-d25c-4b60-8a35-263844a7e353\"}, {\"line\": {\"color\": \"lightgreen\", \"width\": 3}, \"mode\": \"lines\", \"name\": \"Quartet 2 - quadratic fit\", \"x\": [4, 5, 6, 7, 8, 9, 10, 11, 12, 13, 14], \"y\": [3.1002097902097887, 4.740629370629364, 6.127622377622366, 7.2611888111887986, 8.141328671328658, 8.768041958041945, 9.141328671328665, 9.261188811188813, 9.127622377622387, 8.740629370629389, 8.100209790209828], \"type\": \"scatter\", \"uid\": \"8b0b5eb4-7d37-4e4e-8cc0-81cee1771239\"}], {}, {\"showLink\": true, \"linkText\": \"Export to plot.ly\"})});</script><script type=\"text/javascript\">window.addEventListener(\"resize\", function(){Plotly.Plots.resize(document.getElementById(\"f63f91c0-245c-4298-b539-a0df6e23ffe8\"));});</script>"
      ]
     },
     "metadata": {},
     "output_type": "display_data"
    }
   ],
   "source": [
    "# https://stackoverflow.com/questions/33710829/linear-regression-with-quadratic-terms\n",
    "\n",
    "\n",
    "quadratic_model = make_pipeline(PolynomialFeatures(2), linear_model.LinearRegression())\n",
    "regr_Q2_quad = quadratic_model.fit(Q2_X, Q2_Y)\n",
    "Q2_Y_predQuadratic = regr_Q2_quad.predict(Q2_X)\n",
    "\n",
    "trace1 = go.Scatter(x=df_Q2['x2'], y=df_Q2['y2'],\n",
    "                    mode='markers', name = 'Quartet 2', marker = dict(color = 'black'))\n",
    "\n",
    "trace1_linReg = go.Scatter(x=df_Q2['x2'], y = Q2_Y_pred,\n",
    "                           name = 'Quartet 2 - linear fit',\n",
    "                           mode = 'lines',\n",
    "                           line = dict(color = 'blue', width= 3)\n",
    "                          )\n",
    "trace1_quadReg = go.Scatter(x=df_Q2['x2'], y = Q2_Y_predQuadratic,\n",
    "                            name = 'Quartet 2 - quadratic fit',\n",
    "                            mode = 'lines',\n",
    "                            line = dict(color = 'lightgreen', width = 3)\n",
    "                           )\n",
    "\n",
    "data = [trace1, trace1_linReg, trace1_quadReg]\n",
    "\n",
    "fig = go.Figure(data=data)\n",
    "\n",
    "iplot(fig)"
   ]
  },
  {
   "cell_type": "markdown",
   "metadata": {},
   "source": [
    "Obviously, the quadratic fit is significantly better than linear fit. Let's compare the stats."
   ]
  },
  {
   "cell_type": "code",
   "execution_count": 45,
   "metadata": {},
   "outputs": [
    {
     "name": "stdout",
     "output_type": "stream",
     "text": [
      "Mean Absolute Error Q2: 0.9679338842975208\n",
      "Mean Squared Error Q2: 1.2523901652892564\n",
      "Root Mean Squared Error Q2: 1.1191023926742611\n",
      "R^2 (coefficient of determination) Q2: 0.6662420117029544\n",
      "---\n",
      "Mean Absolute Error Q2 quadratic: 0.0012205975842368407\n",
      "Mean Squared Error Q2 quadratic: 2.0343293070577633e-06\n",
      "Root Mean Squared Error Q2 quadratic: 0.0014262991646417534\n",
      "R^2 (coefficient of determination) Q2 quadratic: 0.999999457857722\n"
     ]
    }
   ],
   "source": [
    "print('Mean Absolute Error Q2:', metrics.mean_absolute_error(Q2_Y, Q2_Y_pred))  \n",
    "print('Mean Squared Error Q2:', metrics.mean_squared_error(Q2_Y, Q2_Y_pred))  \n",
    "print('Root Mean Squared Error Q2:', np.sqrt(metrics.mean_squared_error(Q2_Y, Q2_Y_pred)))\n",
    "print('R^2 (coefficient of determination) Q2:', metrics.r2_score(Q2_Y, Q2_Y_pred))\n",
    "print('---')\n",
    "print('Mean Absolute Error Q2 quadratic:', metrics.mean_absolute_error(Q2_Y, Q2_Y_predQuadratic))  \n",
    "print('Mean Squared Error Q2 quadratic:', metrics.mean_squared_error(Q2_Y, Q2_Y_predQuadratic))  \n",
    "print('Root Mean Squared Error Q2 quadratic:', np.sqrt(metrics.mean_squared_error(Q2_Y, Q2_Y_predQuadratic)))\n",
    "print('R^2 (coefficient of determination) Q2 quadratic:', metrics.r2_score(Q2_Y, Q2_Y_predQuadratic))\n"
   ]
  },
  {
   "cell_type": "markdown",
   "metadata": {},
   "source": [
    "The problem with using R^2 is that it works only for linear regression due to the formula, plus it doesn't take into account that a model with more parameters will obviously fit the data better. Therefore, we have to penalize the more complicated model and see if it is still better. We can do this by calculating BIC and AIC."
   ]
  },
  {
   "cell_type": "code",
   "execution_count": 47,
   "metadata": {},
   "outputs": [
    {
     "name": "stdout",
     "output_type": "stream",
     "text": [
      "linear:  36.13668461017363 36.09013543852756\n",
      "quadratic:  -110.49769591962843 -110.5442450912745\n"
     ]
    }
   ],
   "source": [
    "print('linear: ', punisher.metrics.criterion.aic(regr_Q2, Q2_X, Q2_Y), punisher.metrics.criterion.bic(regr_Q2, Q2_X, Q2_Y))\n",
    "\n",
    "print('quadratic: ', punisher.metrics.criterion.aic(regr_Q2_quad, Q2_X, Q2_Y),\n",
    "      punisher.metrics.criterion.bic(regr_Q2_quad, Q2_X, Q2_Y))"
   ]
  },
  {
   "cell_type": "markdown",
   "metadata": {},
   "source": [
    "The negative BIC and AIC clearly show that the quadratic fit is the best one."
   ]
  },
  {
   "cell_type": "markdown",
   "metadata": {},
   "source": [
    "***\n",
    "## Descriptive statistics\n",
    "3. Calculate the descriptive statistics of the variables in the dataset.\n",
    "\n",
    "\n",
    "## Discussion\n",
    "4. Explain why the dataset is interesting, referring to the plots and statistics above.\n",
    "\n",
    "\n",
    "## Conclusion\n",
    "\n",
    "links:\n",
    "https://en.wikipedia.org/wiki/Anscombe%27s_quartet"
   ]
  },
  {
   "cell_type": "code",
   "execution_count": null,
   "metadata": {},
   "outputs": [],
   "source": []
  },
  {
   "cell_type": "code",
   "execution_count": null,
   "metadata": {},
   "outputs": [],
   "source": []
  }
 ],
 "metadata": {
  "kernelspec": {
   "display_name": "Python 3",
   "language": "python",
   "name": "python3"
  },
  "language_info": {
   "codemirror_mode": {
    "name": "ipython",
    "version": 3
   },
   "file_extension": ".py",
   "mimetype": "text/x-python",
   "name": "python",
   "nbconvert_exporter": "python",
   "pygments_lexer": "ipython3",
   "version": "3.6.6"
  }
 },
 "nbformat": 4,
 "nbformat_minor": 2
}
